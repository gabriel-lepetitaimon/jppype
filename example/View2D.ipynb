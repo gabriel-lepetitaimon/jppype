{
 "cells": [
  {
   "cell_type": "code",
   "execution_count": 1,
   "id": "6d2e67eb",
   "metadata": {},
   "outputs": [],
   "source": [
    "from jppype import View2D, imshow\n",
    "from ipywidgets import IntSlider"
   ]
  },
  {
   "cell_type": "code",
   "execution_count": 2,
   "id": "98df90a3",
   "metadata": {},
   "outputs": [],
   "source": [
    "import cv2\n",
    "import numpy as np"
   ]
  },
  {
   "cell_type": "code",
   "execution_count": 3,
   "id": "0829efae",
   "metadata": {},
   "outputs": [],
   "source": [
    "img = cv2.imread('../../../../Data/Fundus/Lesions/IDriD/Train/raw/IDRiD_02.png')"
   ]
  },
  {
   "cell_type": "code",
   "execution_count": 4,
   "id": "62ced187-f50d-4d78-82c0-1cf54ad2e991",
   "metadata": {},
   "outputs": [],
   "source": [
    "img = img.astype(np.float32)/255"
   ]
  },
  {
   "cell_type": "code",
   "execution_count": 5,
   "id": "6c503b63-f87f-47b7-a4f6-6f5bb5a074c4",
   "metadata": {},
   "outputs": [
    {
     "data": {
      "application/vnd.jupyter.widget-view+json": {
       "model_id": "5f16b46d54ab4229b0929a08a533e08e",
       "version_major": 2,
       "version_minor": 0
      },
      "text/plain": [
       "View2D()"
      ]
     },
     "execution_count": 5,
     "metadata": {},
     "output_type": "execute_result"
    }
   ],
   "source": [
    "v = imshow(img)\n",
    "v"
   ]
  },
  {
   "cell_type": "code",
   "execution_count": 6,
   "id": "0d61670c-8ffe-4386-a477-dd4d484f84c7",
   "metadata": {},
   "outputs": [],
   "source": [
    "l = v[0]"
   ]
  },
  {
   "cell_type": "code",
   "execution_count": 7,
   "id": "7ef55293-f9e6-4ead-8811-01d2f1c9021e",
   "metadata": {},
   "outputs": [
    {
     "data": {
      "text/plain": [
       "'auto'"
      ]
     },
     "execution_count": 7,
     "metadata": {},
     "output_type": "execute_result"
    }
   ],
   "source": [
    "l.vmin"
   ]
  }
 ],
 "metadata": {
  "kernelspec": {
   "display_name": "Python 3 (ipykernel)",
   "language": "python",
   "name": "python3"
  },
  "language_info": {
   "codemirror_mode": {
    "name": "ipython",
    "version": 3
   },
   "file_extension": ".py",
   "mimetype": "text/x-python",
   "name": "python",
   "nbconvert_exporter": "python",
   "pygments_lexer": "ipython3",
   "version": "3.10.11"
  }
 },
 "nbformat": 4,
 "nbformat_minor": 5
}
