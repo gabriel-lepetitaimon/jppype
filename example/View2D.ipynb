{
 "cells": [
  {
   "cell_type": "code",
   "execution_count": 1,
   "id": "6d2e67eb",
   "metadata": {},
   "outputs": [
    {
     "data": {
      "application/vnd.jupyter.widget-view+json": {
       "model_id": "783fdc403fe04e7ea7721f0962fe5b5e",
       "version_major": 2,
       "version_minor": 0
      },
      "text/plain": [
       "HTML(value='<style>\\n    .cell-output-ipywidget-background {\\n    background-color: transparent !important;\\n …"
      ]
     },
     "metadata": {},
     "output_type": "display_data"
    }
   ],
   "source": [
    "from jppype import imshow, vscode_theme\n",
    "\n",
    "vscode_theme()"
   ]
  },
  {
   "cell_type": "code",
   "execution_count": 11,
   "id": "6c503b63-f87f-47b7-a4f6-6f5bb5a074c4",
   "metadata": {},
   "outputs": [
    {
     "data": {
      "application/vnd.jupyter.widget-view+json": {
       "model_id": "908242d354f746d8a0aea963eed70af7",
       "version_major": 2,
       "version_minor": 0
      },
      "text/plain": [
       "View2D()"
      ]
     },
     "execution_count": 11,
     "metadata": {},
     "output_type": "execute_result"
    }
   ],
   "source": [
    "v = imshow(\"../../../../Data/Fundus/Lesions/IDriD/Train/raw/IDRiD_03.png\")\n",
    "v.add_label(\n",
    "    \"../../../../Data/Fundus/Lesions/IDriD/Train/bright/IDRiD_03.png\",\n",
    "    \"bright\",\n",
    "    colormap=\"green\",\n",
    "    blend_mode=\"color\",\n",
    ")"
   ]
  }
 ],
 "metadata": {
  "kernelspec": {
   "display_name": "Python 3 (ipykernel)",
   "language": "python",
   "name": "python3"
  },
  "language_info": {
   "codemirror_mode": {
    "name": "ipython",
    "version": 3
   },
   "file_extension": ".py",
   "mimetype": "text/x-python",
   "name": "python",
   "nbconvert_exporter": "python",
   "pygments_lexer": "ipython3",
   "version": "3.10.11"
  }
 },
 "nbformat": 4,
 "nbformat_minor": 5
}
