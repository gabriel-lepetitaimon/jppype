{
 "cells": [
  {
   "cell_type": "code",
   "execution_count": 5,
   "id": "6d2e67eb",
   "metadata": {},
   "outputs": [
    {
     "data": {
      "application/vnd.jupyter.widget-view+json": {
       "model_id": "1baf5b6399764709826d23f98071faf9",
       "version_major": 2,
       "version_minor": 0
      },
      "text/plain": [
       "HTML(value=\"<style>\\n        .cell-output-ipywidget-background {\\n                background: transparent !imp…"
      ]
     },
     "metadata": {},
     "output_type": "display_data"
    }
   ],
   "source": [
    "from ipywidgets import GridBox, Layout\n",
    "\n",
    "from jppype import imshow, sync_views, vscode_theme\n",
    "\n",
    "vscode_theme()"
   ]
  },
  {
   "cell_type": "code",
   "execution_count": 6,
   "id": "4fa01f5f",
   "metadata": {},
   "outputs": [
    {
     "data": {
      "application/vnd.jupyter.widget-view+json": {
       "model_id": "37b8b4dae0c14a3d95222850335a311f",
       "version_major": 2,
       "version_minor": 0
      },
      "text/plain": [
       "GridBox(children=(View2D(linkedTransformGroup='6d45e94a2ce04f688cecfc7a8016bfe8'), View2D(linkedTransformGroup…"
      ]
     },
     "execution_count": 6,
     "metadata": {},
     "output_type": "execute_result"
    }
   ],
   "source": [
    "viewLeft = imshow(\"PATH/TO/IMG1.png\")\n",
    "viewRight = imshow(\"PATH/TO/IMG1.png\")\n",
    "viewRight._left_ruler = False\n",
    "\n",
    "sync_views(viewLeft, viewRight)\n",
    "\n",
    "\n",
    "GridBox(\n",
    "    [viewLeft, viewRight],\n",
    "    layout=Layout(\n",
    "        grid_template_columns=\"repeat(2, 1fr)\",\n",
    "        grid_template_rows=\"415px\",\n",
    "    ),\n",
    ")"
   ]
  }
 ],
 "metadata": {
  "kernelspec": {
   "display_name": "Python 3 (ipykernel)",
   "language": "python",
   "name": "python3"
  },
  "language_info": {
   "codemirror_mode": {
    "name": "ipython",
    "version": 3
   },
   "file_extension": ".py",
   "mimetype": "text/x-python",
   "name": "python",
   "nbconvert_exporter": "python",
   "pygments_lexer": "ipython3",
   "version": "3.11.9"
  }
 },
 "nbformat": 4,
 "nbformat_minor": 5
}
