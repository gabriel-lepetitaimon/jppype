{
 "cells": [
  {
   "cell_type": "code",
   "execution_count": 1,
   "metadata": {},
   "outputs": [],
   "source": [
    "import jppype as jpp\n",
    "from jppype.utilities.image import checkerboard\n",
    "\n",
    "from jppype.utilities.geometric import Rect"
   ]
  },
  {
   "cell_type": "code",
   "execution_count": 2,
   "metadata": {},
   "outputs": [
    {
     "data": {
      "application/vnd.jupyter.widget-view+json": {
       "model_id": "f6b4546762a94c6792321a1a5b14cfdb",
       "version_major": 2,
       "version_minor": 0
      },
      "text/plain": [
       "View2D()"
      ]
     },
     "execution_count": 2,
     "metadata": {},
     "output_type": "execute_result"
    }
   ],
   "source": [
    "v = jpp.View2D()\n",
    "\n",
    "v.add_image(checkerboard((100, 100), color2='purple'), 'test', domain=Rect(100,100, -50, -50))\n",
    "v"
   ]
  }
 ],
 "metadata": {
  "kernelspec": {
   "display_name": "Python 3 (ipykernel)",
   "language": "python",
   "name": "python3"
  },
  "language_info": {
   "codemirror_mode": {
    "name": "ipython",
    "version": 3
   },
   "file_extension": ".py",
   "mimetype": "text/x-python",
   "name": "python",
   "nbconvert_exporter": "python",
   "pygments_lexer": "ipython3",
   "version": "3.12.4"
  },
  "widgets": {
   "application/vnd.jupyter.widget-state+json": {
    "state": {
     "e07959ac687749499347984abf32e631": {
      "model_module": "@jupyter-widgets/base",
      "model_module_version": "2.0.0",
      "model_name": "LayoutModel",
      "state": {
       "_model_name": "LayoutModel",
       "_view_name": "ErrorWidgetView",
       "align_content": null,
       "align_items": null,
       "align_self": null,
       "border_bottom": null,
       "border_left": null,
       "border_right": null,
       "border_top": null,
       "bottom": null,
       "display": null,
       "error": {},
       "flex": null,
       "flex_flow": null,
       "grid_area": null,
       "grid_auto_columns": null,
       "grid_auto_flow": null,
       "grid_auto_rows": null,
       "grid_column": null,
       "grid_gap": null,
       "grid_row": null,
       "grid_template_areas": null,
       "grid_template_columns": null,
       "grid_template_rows": null,
       "height": null,
       "justify_content": null,
       "justify_items": null,
       "left": null,
       "margin": null,
       "max_height": null,
       "max_width": null,
       "min_height": null,
       "min_width": null,
       "msg": "Failed to load model class 'LayoutModel' from module '@jupyter-widgets/base'",
       "object_fit": null,
       "object_position": null,
       "order": null,
       "overflow": null,
       "padding": null,
       "right": null,
       "top": null,
       "visibility": null,
       "width": null
      }
     },
     "f6b4546762a94c6792321a1a5b14cfdb": {
      "model_module": "jppype",
      "model_module_version": "2.0.0",
      "model_name": "JView2DModel",
      "state": {
       "_area_selected": null,
       "_domain": [
        100,
        100,
        -50,
        -50
       ],
       "_hide_foreground": false,
       "_instance_id": 0,
       "_layers_data": {
        "test": {}
       },
       "_layers_options": {
        "test": "{\"visible\": true, \"opacity\": 1.0, \"z_index\": 1, \"foreground\": false, \"label\": \"\", \"auto_scale_domain\": true, \"domain\": [100, 100, -50, -50]}"
       },
       "_left_ruler": true,
       "_loading": false,
       "_model_module": "jppype",
       "_model_name": "JView2DModel",
       "_target_transform": [
        0,
        0,
        1e-08
       ],
       "_top_ruler": true,
       "_transform": [
        0,
        0,
        1e-08
       ],
       "_view_name": "ErrorWidgetView",
       "error": {},
       "layout": "IPY_MODEL_e07959ac687749499347984abf32e631",
       "linkedTransformGroup": null,
       "msg": "Failed to load model class 'JView2DModel' from module 'jppype'"
      }
     }
    },
    "version_major": 2,
    "version_minor": 0
   }
  }
 },
 "nbformat": 4,
 "nbformat_minor": 4
}
