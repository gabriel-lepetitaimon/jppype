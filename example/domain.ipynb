{
 "cells": [
  {
   "cell_type": "code",
   "execution_count": 1,
   "metadata": {},
   "outputs": [],
   "source": [
    "import jppype as jpp\n",
    "from jppype.utils.geometric import Rect\n",
    "from jppype.utils.image import checkerboard\n"
   ]
  },
  {
   "cell_type": "code",
   "execution_count": 2,
   "metadata": {},
   "outputs": [
    {
     "data": {
      "application/vnd.jupyter.widget-view+json": {
       "model_id": "1c7af39de2b841f3937de22ee22104f4",
       "version_major": 2,
       "version_minor": 0
      },
      "text/plain": [
       "GridBox(children=(View2D(linkedTransformGroup='49ce13508c1a4d849a50e9d0ef6674cc'), View2D(linkedTransformGroup…"
      ]
     },
     "metadata": {},
     "output_type": "display_data"
    }
   ],
   "source": [
    "v = jpp.Mosaic(2, sync=True)\n",
    "\n",
    "v[0].add_image(checkerboard((200, 120), color2=\"purple\"), \"test\", domain=Rect(200, 120, -20, -20))\n",
    "v[0].add_graph([[0, 1]], [[10, 15], [80, 80]])\n",
    "v[1].add_image(checkerboard((100, 100), color2=\"purple\"), \"test\")\n",
    "v[1].add_graph([[0, 1]], [[10, 15], [80, 80]])\n",
    "v.sync_domains()\n",
    "v.show()"
   ]
  }
 ],
 "metadata": {
  "kernelspec": {
   "display_name": "nnet",
   "language": "python",
   "name": "python3"
  },
  "language_info": {
   "codemirror_mode": {
    "name": "ipython",
    "version": 3
   },
   "file_extension": ".py",
   "mimetype": "text/x-python",
   "name": "python",
   "nbconvert_exporter": "python",
   "pygments_lexer": "ipython3",
   "version": "3.12.4"
  },
  "widgets": {
   "application/vnd.jupyter.widget-state+json": {
    "state": {
     "012bd123fbf4450fb8fe2e80a040e311": {
      "model_module": "@jupyter-widgets/base",
      "model_module_version": "2.0.0",
      "model_name": "LayoutModel",
      "state": {}
     },
     "02181b63ca654f5fb246db698d0424d9": {
      "model_module": "@jupyter-widgets/base",
      "model_module_version": "2.0.0",
      "model_name": "LayoutModel",
      "state": {}
     },
     "055d87529aa54e48a3eaa2a952c0ac8e": {
      "model_module": "jppype",
      "model_module_version": "0.2.0-a5",
      "model_name": "JView2DModel",
      "state": {
       "_domain": [
        -1,
        0,
        101,
        140
       ],
       "_instance_id": 22,
       "_layers_data": {
        "Graph 01": {
         "data": {
          "adj": [
           [
            0,
            1
           ]
          ],
          "nodes_yx": [
           [
            10,
            15
           ],
           [
            80,
            80
           ]
          ]
         },
         "infos": {
          "nbNodes": 2,
          "nodesDomain": [
           100,
           100,
           -1,
           40
          ]
         },
         "type": "graph"
        },
        "test": {
         "data": "data:image/jpg;base64,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",
         "infos": {
          "height": 100,
          "width": 100
         },
         "type": "image"
        }
       },
       "_layers_options": {
        "Graph 01": {
         "auto_scale_domain": true,
         "domain": {
          "bottomRight": {
           "x": 140,
           "y": 99
          },
          "topLeft": {
           "x": 40,
           "y": -1
          }
         },
         "edge_labels_visible": false,
         "edge_map_visible": true,
         "edges_cmap": {
          "0": [
           "#8caaee",
           "#99d1db",
           "#a6d189",
           "#ef9f76",
           "#e78284",
           "#f4b8e4",
           "#f2d5cf",
           "#babbf1",
           "#85c1dc",
           "#81c8be",
           "#e5c890",
           "#ea999c",
           "#ca9ee6",
           "#eebebe"
          ]
         },
         "edges_opacity": 0.7,
         "foreground": true,
         "label": "",
         "node_labels_visible": false,
         "nodes_cmap": {
          "0": [
           "#8caaee",
           "#99d1db",
           "#a6d189",
           "#ef9f76",
           "#e78284",
           "#f4b8e4",
           "#f2d5cf",
           "#babbf1",
           "#85c1dc",
           "#81c8be",
           "#e5c890",
           "#ea999c",
           "#ca9ee6",
           "#eebebe"
          ]
         },
         "opacity": 1,
         "visible": true,
         "z_index": 2
        },
        "test": {
         "auto_scale_domain": true,
         "domain": {
          "bottomRight": {
           "x": 140,
           "y": 99
          },
          "topLeft": {
           "x": 40,
           "y": -1
          }
         },
         "foreground": false,
         "label": "",
         "opacity": 1,
         "visible": true,
         "z_index": 1
        }
       },
       "_target_transform": [
        0,
        0,
        1e-8
       ],
       "_transform": [
        0.5,
        0.5,
        0
       ],
       "layout": "IPY_MODEL_ca438fbdf70c4ebfbd8395375a3601b2",
       "linkedTransformGroup": "915f213e31564e9c87c5e020f0ca20ab"
      }
     },
     "10a99d7485084eac953a86979709995e": {
      "model_module": "jppype",
      "model_module_version": "0.2.0-a5",
      "model_name": "JView2DModel",
      "state": {
       "_domain": [
        0,
        0,
        100,
        100
       ],
       "_instance_id": 15,
       "_layers_data": {
        "test": {
         "data": "data:image/jpg;base64,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",
         "infos": {
          "height": 100,
          "width": 100
         },
         "type": "image"
        }
       },
       "_layers_options": {
        "test": {
         "auto_scale_domain": true,
         "domain": {
          "bottomRight": {
           "x": 100,
           "y": 100
          },
          "topLeft": {
           "x": 0,
           "y": 0
          }
         },
         "foreground": false,
         "label": "",
         "opacity": 1,
         "visible": true,
         "z_index": 1
        }
       },
       "_left_ruler": false,
       "_target_transform": [
        0,
        0,
        1e-8
       ],
       "_transform": [
        0,
        0,
        1e-8
       ],
       "layout": "IPY_MODEL_197f1ac24abd4517bc5bd0bd850bd9f7",
       "linkedTransformGroup": "a050ebafc7f341ec9ddf6236a2c4808c"
      }
     },
     "14b2a5c6fd1b4afb98646f6918a38ba0": {
      "model_module": "@jupyter-widgets/base",
      "model_module_version": "2.0.0",
      "model_name": "LayoutModel",
      "state": {}
     },
     "18387e22d9cf433f851450a2aa43b16a": {
      "model_module": "@jupyter-widgets/controls",
      "model_module_version": "2.0.0",
      "model_name": "GridBoxModel",
      "state": {
       "children": [
        "IPY_MODEL_218ba141df6342be93046aa1c5aa4065",
        "IPY_MODEL_9a8c61e43b66466f86e0e847bc23d3b9"
       ],
       "layout": "IPY_MODEL_f22c4593027c4741b78895fb2d6a5d03"
      }
     },
     "197f1ac24abd4517bc5bd0bd850bd9f7": {
      "model_module": "@jupyter-widgets/base",
      "model_module_version": "2.0.0",
      "model_name": "LayoutModel",
      "state": {}
     },
     "1f8c2bae8c0941de89a279673b3fe42f": {
      "model_module": "@jupyter-widgets/controls",
      "model_module_version": "2.0.0",
      "model_name": "GridBoxModel",
      "state": {
       "children": [
        "IPY_MODEL_40041ad77ece4a7a9c0ec9a80eab5085",
        "IPY_MODEL_a65c5aac17f441df98556ac7688b0e34"
       ],
       "layout": "IPY_MODEL_a6b105dc1a6843c0b5f8e73bcedaf33e"
      }
     },
     "218ba141df6342be93046aa1c5aa4065": {
      "model_module": "jppype",
      "model_module_version": "0.2.0-a5",
      "model_name": "JView2DModel",
      "state": {
       "_domain": [
        -1,
        40,
        100,
        100
       ],
       "_instance_id": 16,
       "_layers_data": {
        "Graph 01": {
         "data": {
          "adj": [
           [
            0,
            1
           ]
          ],
          "nodes_yx": [
           [
            10,
            15
           ],
           [
            80,
            80
           ]
          ]
         },
         "infos": {
          "nbNodes": 2,
          "nodesDomain": [
           100,
           100,
           -1,
           40
          ]
         },
         "type": "graph"
        },
        "test": {
         "data": "data:image/jpg;base64,/9j/4AAQSkZJRgABAQAAAQABAAD/2wBDAAIBAQEBAQIBAQECAgICAgQDAgICAgUEBAMEBgUGBgYFBgYGBwkIBgcJBwYGCAsICQoKCgoKBggLDAsKDAkKCgr/2wBDAQICAgICAgUDAwUKBwYHCgoKCgoKCgoKCgoKCgoKCgoKCgoKCgoKCgoKCgoKCgoKCgoKCgoKCgoKCgoKCgoKCgr/wAARCABkAGQDASIAAhEBAxEB/8QAHwAAAQUBAQEBAQEAAAAAAAAAAAECAwQFBgcICQoL/8QAtRAAAgEDAwIEAwUFBAQAAAF9AQIDAAQRBRIhMUEGE1FhByJxFDKBkaEII0KxwRVS0fAkM2JyggkKFhcYGRolJicoKSo0NTY3ODk6Q0RFRkdISUpTVFVWV1hZWmNkZWZnaGlqc3R1dnd4eXqDhIWGh4iJipKTlJWWl5iZmqKjpKWmp6ipqrKztLW2t7i5usLDxMXGx8jJytLT1NXW19jZ2uHi4+Tl5ufo6erx8vP09fb3+Pn6/8QAHwEAAwEBAQEBAQEBAQAAAAAAAAECAwQFBgcICQoL/8QAtREAAgECBAQDBAcFBAQAAQJ3AAECAxEEBSExBhJBUQdhcRMiMoEIFEKRobHBCSMzUvAVYnLRChYkNOEl8RcYGRomJygpKjU2Nzg5OkNERUZHSElKU1RVVldYWVpjZGVmZ2hpanN0dXZ3eHl6goOEhYaHiImKkpOUlZaXmJmaoqOkpaanqKmqsrO0tba3uLm6wsPExcbHyMnK0tPU1dbX2Nna4uPk5ebn6Onq8vP09fb3+Pn6/9oADAMBAAIRAxEAPwD9/K/mh/4OBv8AlLr8W/8AuA/+mDTqP+Igb/grr/0dt/5YWgf/ACBX6X/8E/P+Cfn7In/BUz9kTwl+3f8At3/CT/hOvit46+3/APCVeKv7ev8ATPt32K/udOtv9G06eC2i2Wtpbx/u4l3eXubczMx/T8ty2vwJXePx7UoSXs0qd27tqV3zKKtaL63vbQ/ZcoyjE+GeJeaZo1OnNeySpXcuZtSTakoK1oPre9tO3jX/AAaR/wDNwP8A3Kn/ALmK+yv+Dgb/AJRFfFv/ALgP/p/06vjX/grd/wAaKv8AhX//AA6t/wCLW/8AC0v7V/4Tv/mOf2n/AGb9j+xf8hf7V5Pl/wBoXf8Aqtm/zfn3bU2+Nf8ABPz/AIKB/td/8FTP2u/CX7CH7d/xb/4Tr4U+Ovt//CVeFf7BsNM+3fYrC51G2/0nToILmLZdWlvJ+7lXd5e1tysykrZbXzXMVxLSaVBNVOV357UrKSsk43fI7e9ba7XQxGUYnO81XGFBpYaLjV5ZXVTlo2UlZJxu/Zvl9+zurta2/NCv7KK+Nf8AiH5/4JFf9Gk/+X7r/wD8n1+Nf/EQN/wV1/6O2/8ALC0D/wCQK1zP/jYHJ/Z3uexvze00vz2tbl5/5He9um/TfOf+Npcn9le59Xvze192/tLcvLyc97cjve3S19bH/BwN/wApdfi3/wBwH/0wadX2V/waR/8ANwP/AHKn/uYr2X/gn5/wT8/ZE/4KmfsieEv27/27/hJ/wnXxW8dfb/8AhKvFX9vX+mfbvsV/c6dbf6Np08FtFstbS3j/AHcS7vL3NuZmY+Nf8Fbv+NFX/Cv/APh1b/xa3/haX9q/8J3/AMxz+0/7N+x/Yv8AkL/avJ8v+0Lv/VbN/m/Pu2pt1rZlQzXLlw1STVdJU+Z25L0rOTum5WfI7e7fa6XTfEZvhs7ypcH0E1iYqNLmlZU+ajZyd03Kz9m+X3Lu6ulrb7K/4OBv+URXxb/7gP8A6f8ATq/mhr9L/wDgn5/wUD/a7/4Kmftd+Ev2EP27/i3/AMJ18KfHX2//AISrwr/YNhpn277FYXOo23+k6dBBcxbLq0t5P3cq7vL2tuVmU/pf/wAQ/P8AwSK/6NJ/8v3X/wD5Poy3MqHAlB4DHpynJ+0Tp2as0o2fM4u94vpa1tQyjN8N4Z4Z5Xmic6k37VOlZx5WlFJuTg73g+lrW17fZVfzQ/8ABwN/yl1+Lf8A3Af/AEwadR/xEDf8Fdf+jtv/ACwtA/8AkCv0v/4J+f8ABPz9kT/gqZ+yJ4S/bv8A27/hJ/wnXxW8dfb/APhKvFX9vX+mfbvsV/c6dbf6Np08FtFstbS3j/dxLu8vc25mZjy5bltfgSu8fj2pQkvZpU7t3bUrvmUVa0X1ve2hw5RlGJ8M8S80zRqdOa9klSu5czakm1JQVrQfW97advwGor+l7/iH5/4JFf8ARpP/AJfuv/8AyfRXtf8AERsk/wCfdT7o/wDyZ9F/xFrhz/n1V/8AAYf/ACw+Nf8AiEj/AOsgP/mKf/vrR/w9u/4cVf8AGq3/AIZ+/wCFpf8ACrf+Z7/4Sv8AsP8AtP8AtL/ib/8AHl9luvJ8v+0PJ/177/K3/Lu2L9lf8RA3/BIr/o7b/wAsLX//AJAr80P+Cgf/AAT8/a7/AOCpn7Xfi39u/wDYQ+En/CdfCnx19g/4RXxV/b1hpn277FYW2nXP+jajPBcxbLq0uI/3kS7vL3LuVlY+LltbMc1rulxKmqCV4+0Xslz3SVpJQu+Vy0vtd200+dyjEZrneJdDjBOOGS5o+1j7GPtE0laSVO75XP3bu6u7aXXsv/K0x/1Qr/hRf/cz/wBt/wBtf+AH2byf7J/6a+Z9o/g2fOf8Okf+HFX/ABtS/wCGgf8AhaX/AAq3/mRP+EU/sP8AtP8AtL/iUf8AH79quvJ8v+0PO/1D7/K2fLu3qf8ABJH/AI0Vf8LA/wCHqX/Frf8AhaX9lf8ACCf8xz+0/wCzftn23/kEfavJ8v8AtC0/1uzf5vybtr7fZf8AgoH/AMFA/wBkT/gqZ+yJ4t/YQ/YQ+Lf/AAnXxW8dfYP+EV8K/wBg3+mfbvsV/bajc/6TqMEFtFstbS4k/eSru8vau5mVSVq2Y0MxWCwSf9nXSbS5ockre1/e2btdzu+f3ddVbQxGIzXDZqsuy5N5S3GLcY81P2cre2/fWbSTc+aXP7muqtp41/xFuf8AWP7/AMyt/wDeqj/iEj/6yA/+Yp/++tfGv/EPz/wV1/6NJ/8AL90D/wCT6/ZT/iIG/wCCRX/R23/lha//APIFa5n/AMJPJ/qv73Nf2ns/3u1uS9+fl3lba+u9tN85/wCELk/1M97nv7X2X7/a3s+a/tOXedtubXe2nxr/AMPbv+HFX/Gq3/hn7/haX/Crf+Z7/wCEr/sP+0/7S/4m/wDx5fZbryfL/tDyf9e+/wArf8u7Yp/ytMf9UK/4UX/3M/8Abf8AbX/gB9m8n+yf+mvmfaP4Nnz+Nf8ABQP/AIJ+ftd/8FTP2u/Fv7d/7CHwk/4Tr4U+OvsH/CK+Kv7esNM+3fYrC2065/0bUZ4LmLZdWlxH+8iXd5e5dysrH2X/AIJI/wDGir/hYH/D1L/i1v8AwtL+yv8AhBP+Y5/af9m/bPtv/II+1eT5f9oWn+t2b/N+TdtfbrWo5dQy5Y3BNf2jZNpPmnzyt7X91dq9nO65Pd10VtN8Rh8qw2VLMcuaebNRk1GXNU9pK3tv3N2k0nPmjye5roraH/DpH/hxV/xtS/4aB/4Wl/wq3/mRP+EU/sP+0/7S/wCJR/x+/arryfL/ALQ87/UPv8rZ8u7ep/xFuf8AWP7/AMyt/wDeqvZf+Cgf/BQP9kT/AIKmfsieLf2EP2EPi3/wnXxW8dfYP+EV8K/2Df6Z9u+xX9tqNz/pOowQW0Wy1tLiT95Ku7y9q7mZVP5of8Q/P/BXX/o0n/y/dA/+T6Mto5dmtB1eJWlXTtH2j9k+SyatFOF1zOWtt7q+mhlGHyrO8M6/GDUcSnyx9rL2MvZpJq0U6d1zOfvWd3dX0svsr/iEj/6yA/8AmKf/AL60f8Pbv+HFX/Gq3/hn7/haX/Crf+Z7/wCEr/sP+0/7S/4m/wDx5fZbryfL/tDyf9e+/wArf8u7Yv2V/wARA3/BIr/o7b/ywtf/APkCvzQ/4KB/8E/P2u/+Cpn7Xfi39u/9hD4Sf8J18KfHX2D/AIRXxV/b1hpn277FYW2nXP8Ao2ozwXMWy6tLiP8AeRLu8vcu5WVjy5bWzHNa7pcSpqglePtF7Jc90laSULvlctL7XdtNOHKMRmud4l0OME44ZLmj7WPsY+0TSVpJU7vlc/du7q7tpdey/wDEW5/1j+/8yt/96qK+Nf8AiH5/4K6/9Gk/+X7oH/yfRXtf2N4e/wA1P/wc/wD5M+i/1f8ACr+el/4Pf/yw+Na/pe/4N+f+URXwk/7j3/p/1Gvsqv5of+Dgb/lLr8W/+4D/AOmDTq8r+0/+Igf8J3J7Hk/ec1+e9vdta0P573v02108T+2P+Ipf8JXJ9X5P3vNf2l+X3OXltC1+e979LW1uvsr/AIO3P+bfv+5r/wDcPXxr/wAG/P8Ayl1+En/ce/8ATBqNfZX/AAaR/wDNwP8A3Kn/ALmK+yv+Dgb/AJRFfFv/ALgP/p/06j+0/wCyf+MX5Oa/7v2l7fxdb8ln8PPtza23V9D+2P7C/wCMM5Ofm/de1vb+Przezs/h9ptz+9bdX0+yq/jXor+yij/k3X/T/wBv/wBucvJ/4He/P5Wt1vof8mm/6ifrP/cPl9n/AODL39p5Wt1vp8a/8G/P/KIr4Sf9x7/0/wCo18a/8Hbn/Nv3/c1/+4evjX/g4G/5S6/Fv/uA/wDpg06vsr/g0j/5uB/7lT/3MUf2Z/ZP/GUc/Nf957O1v4ulue7+Hn35dbbK+h/Y/wDYX/GZ8/PzfvfZWt/H05faXfw+035Petsr6fGv/Bvz/wApdfhJ/wBx7/0wajX9L1fGv/BwN/yiK+Lf/cB/9P8Ap1fzQ0f2Z/xED/hR5/Y8n7vltz3t7173h/Pa1um+uh/Y/wDxFL/hV5/q/J+65be0vy+/zc14Wvz2tbpe+tkV/S9/wb8/8oivhJ/3Hv8A0/6jX2VX80P/AAcDf8pdfi3/ANwH/wBMGnUf2n/xED/hO5PY8n7zmvz3t7trWh/Pe9+m2uh/bH/EUv8AhK5Pq/J+95r+0vy+5y8toWvz3vfpa2t1/S9RX8a9FH/EM/8AqL/8p/8A24f8Qd/6jv8Ayl/90Psr/iIG/wCCuv8A0dt/5YWgf/IFfpf/AME/P+Cfn7In/BUz9kTwl+3f+3f8JP8AhOvit46+3/8ACVeKv7ev9M+3fYr+5062/wBG06eC2i2Wtpbx/u4l3eXubczMx8a/4hI/+sgP/mKf/vrR/wAPbv8AhxV/xqt/4Z+/4Wl/wq3/AJnv/hK/7D/tP+0v+Jv/AMeX2W68ny/7Q8n/AF77/K3/AC7ti65lWy7NaCpcNJKuneXs17J8lmneTULrmcdL72dtNN83xGVZ3hlQ4PSjiU+aXso+xl7NJp3k1TuuZw927u7O2l0f8Fbv+NFX/Cv/APh1b/xa3/haX9q/8J3/AMxz+0/7N+x/Yv8AkL/avJ8v+0Lv/VbN/m/Pu2pt8a/4J+f8FA/2u/8AgqZ+134S/YQ/bv8Ai3/wnXwp8dfb/wDhKvCv9g2GmfbvsVhc6jbf6Tp0EFzFsurS3k/dyru8va25WZT7L/ytMf8AVCv+FF/9zP8A23/bX/gB9m8n+yf+mvmfaP4Nnzn/AA6R/wCHFX/G1L/hoH/haX/Crf8AmRP+EU/sP+0/7S/4lH/H79quvJ8v+0PO/wBQ+/ytny7t6lGtl1DLngsal/aNmk2uafPK/sv3tmr2cLPn93TVW0MPiMqw2VPLsxSebNSinKPNU9pK/sf31mk0nDllz+5pqrafZX/EPz/wSK/6NJ/8v3X/AP5Pr8a/+Igb/grr/wBHbf8AlhaB/wDIFfZX/EW5/wBY/v8AzK3/AN6qP+ISP/rID/5in/761lln/CTz/wCtHvc1vZ+0/e7X57W5+XeN9r6b20wyf/hC5/8AXP3ue3sva/v9r+05be05d4X25tN7aey/8E/P+Cfn7In/AAVM/ZE8Jft3/t3/AAk/4Tr4reOvt/8AwlXir+3r/TPt32K/udOtv9G06eC2i2Wtpbx/u4l3eXubczMx8a/4K3f8aKv+Ff8A/Dq3/i1v/C0v7V/4Tv8A5jn9p/2b9j+xf8hf7V5Pl/2hd/6rZv8AN+fdtTaf8Pbv+HFX/Gq3/hn7/haX/Crf+Z7/AOEr/sP+0/7S/wCJv/x5fZbryfL/ALQ8n/Xvv8rf8u7Yp/ytMf8AVCv+FF/9zP8A23/bX/gB9m8n+yf+mvmfaP4Nnz5UaOY0MxeNxrf9nXbSb5ockr+y/dXbtdwsuT3dNFbTDD4fNcNmrzHMW3lLcpJSlzU/Zyv7H9zdtJNw5Y8nuaaK2njX/BPz/goH+13/AMFTP2u/CX7CH7d/xb/4Tr4U+Ovt/wDwlXhX+wbDTPt32KwudRtv9J06CC5i2XVpbyfu5V3eXtbcrMp/S/8A4h+f+CRX/RpP/l+6/wD/ACfXxr/w6R/4cVf8bUv+Ggf+Fpf8Kt/5kT/hFP7D/tP+0v8AiUf8fv2q68ny/wC0PO/1D7/K2fLu3qf8Rbn/AFj+/wDMrf8A3qozKjmOa11V4abVBK0vZv2S57tu8W4XfK4622sr6aGb4fNc7xKr8HtxwyXLL2UvYx9om27xbp3fK4e9Z3VlfSy+Nf8AiIG/4K6/9Hbf+WFoH/yBX6X/APBPz/gn5+yJ/wAFTP2RPCX7d/7d/wAJP+E6+K3jr7f/AMJV4q/t6/0z7d9iv7nTrb/RtOngtotlraW8f7uJd3l7m3MzMfGv+ISP/rID/wCYp/8AvrR/w9u/4cVf8arf+Gfv+Fpf8Kt/5nv/AISv+w/7T/tL/ib/APHl9luvJ8v+0PJ/177/ACt/y7ti9WZVsuzWgqXDSSrp3l7NeyfJZp3k1C65nHS+9nbTTuzfEZVneGVDg9KOJT5peyj7GXs0mneTVO65nD3bu7s7aXX2V/xD8/8ABIr/AKNJ/wDL91//AOT6K+Nf+Itz/rH9/wCZW/8AvVRXi/2N4hfzVP8Awcv/AJM+d/1f8Vf56v8A4PX/AMsPsr/iIG/4JFf9Hbf+WFr/AP8AIFfmh/wUD/4J+ftd/wDBUz9rvxb+3f8AsIfCT/hOvhT46+wf8Ir4q/t6w0z7d9isLbTrn/RtRnguYtl1aXEf7yJd3l7l3KysfzQr+l7/AIN+f+URXwk/7j3/AKf9Rr2syy2hwJQWPwDcpyfs2qlmrNOV1yqLveK62tfQ+izfKMN4Z4ZZplbc6k37JqrZx5WnJtKKg73gutrX07fGv/BJH/jRV/wsD/h6l/xa3/haX9lf8IJ/zHP7T/s37Z9t/wCQR9q8ny/7QtP9bs3+b8m7a+32X/goH/wUD/ZE/wCCpn7Ini39hD9hD4t/8J18VvHX2D/hFfCv9g3+mfbvsV/bajc/6TqMEFtFstbS4k/eSru8vau5mVT41/wduf8ANv3/AHNf/uHr41/4N+f+Uuvwk/7j3/pg1GijltDNcufEtVtV0nU5VbkvSuoqzTlZ8iv7197NdDD5Rhs7yp8YV21iYqVXljZU+ajdRVmnKz9mub37u7s1pY/4h+f+Cuv/AEaT/wCX7oH/AMn1+yn/ABEDf8Eiv+jtv/LC1/8A+QK+yq/jXrLLP+Ngc/8AaPuexty+z0vz3vfm5/5Fa1uu/TDJ/wDjaXP/AGr7n1e3L7L3b+0vzc3Pz3tyK1rdb30t+l//AAUD/wCCfn7Xf/BUz9rvxb+3f+wh8JP+E6+FPjr7B/wivir+3rDTPt32KwttOuf9G1GeC5i2XVpcR/vIl3eXuXcrKx9l/wCCSP8Axoq/4WB/w9S/4tb/AMLS/sr/AIQT/mOf2n/Zv2z7b/yCPtXk+X/aFp/rdm/zfk3bX2/ZX/Bvz/yiK+En/ce/9P8AqNfGv/B25/zb9/3Nf/uHrKjmVfNcxfDVVJUE3T5lfntSu4u7bjd8iv7tt7JdMMPm+JzvNXwfXSWGi5UuaN1U5aN3F3bcbv2a5vcs7uyWlvZf+Cgf/BQP9kT/AIKmfsieLf2EP2EPi3/wnXxW8dfYP+EV8K/2Df6Z9u+xX9tqNz/pOowQW0Wy1tLiT95Ku7y9q7mZVP5of8Q/P/BXX/o0n/y/dA/+T6P+Dfn/AJS6/CT/ALj3/pg1Gv6XqMyzKvwJXWAwCUoSXtG6l27tuNlyuKtaK6XvfUM3zfE+GeJWV5WlOnNe1bq3cuZtxaTi4K1oLpe99e3xr/xEDf8ABIr/AKO2/wDLC1//AOQK/ND/AIKB/wDBPz9rv/gqZ+134t/bv/YQ+En/AAnXwp8dfYP+EV8Vf29YaZ9u+xWFtp1z/o2ozwXMWy6tLiP95Eu7y9y7lZWP5oV/S9/wb8/8oivhJ/3Hv/T/AKjXVmWW0OBKCx+AblOT9m1Us1ZpyuuVRd7xXW1r6Hdm+UYbwzwyzTK251Jv2TVWzjytOTaUVB3vBdbWvp2/Gv8A4h+f+Cuv/RpP/l+6B/8AJ9Ff0vUV4v8AxEbO/wDn3T+6X/yZ87/xFriP/n1S/wDAZ/8AywK/mh/4OBv+Uuvxb/7gP/pg06j/AIiBv+Cuv/R23/lhaB/8gV+l/wDwT8/4J+fsif8ABUz9kTwl+3f+3f8ACT/hOvit46+3/wDCVeKv7ev9M+3fYr+5062/0bTp4LaLZa2lvH+7iXd5e5tzMzH0Mty2vwJXePx7UoSXs0qd27tqV3zKKtaL63vbQ9TKMoxPhniXmmaNTpzXskqV3LmbUk2pKCtaD63vbTt41/waR/8ANwP/AHKn/uYr7K/4OBv+URXxb/7gP/p/06vjX/grd/xoq/4V/wD8Orf+LW/8LS/tX/hO/wDmOf2n/Zv2P7F/yF/tXk+X/aF3/qtm/wA35921NvjX/BPz/goH+13/AMFTP2u/CX7CH7d/xb/4Tr4U+Ovt/wDwlXhX+wbDTPt32KwudRtv9J06CC5i2XVpbyfu5V3eXtbcrMpK2W181zFcS0mlQTVTld+e1KykrJON3yO3vW2u10MRlGJzvNVxhQaWGi41eWV1U5aNlJWScbv2b5ffs7q7WtvzQr+yivjX/iH5/wCCRX/RpP8A5fuv/wDyfX41/wDEQN/wV1/6O2/8sLQP/kCtcz/42Byf2d7nsb83tNL89rW5ef8Akd726b9N85/42lyf2V7n1e/N7X3b+0ty8vJz3tyO97dLX1sf8HA3/KXX4t/9wH/0wadX2V/waR/83A/9yp/7mK9l/wCCfn/BPz9kT/gqZ+yJ4S/bv/bv+En/AAnXxW8dfb/+Eq8Vf29f6Z9u+xX9zp1t/o2nTwW0Wy1tLeP93Eu7y9zbmZmPjX/BW7/jRV/wr/8A4dW/8Wt/4Wl/av8Awnf/ADHP7T/s37H9i/5C/wBq8ny/7Qu/9Vs3+b8+7am3WtmVDNcuXDVJNV0lT5nbkvSs5O6blZ8jt7t9rpdN8Rm+GzvKlwfQTWJio0uaVlT5qNnJ3TcrP2b5fcu7q6Wtvsr/AIOBv+URXxb/AO4D/wCn/Tq/mhr9L/8Agn5/wUD/AGu/+Cpn7XfhL9hD9u/4t/8ACdfCnx19v/4Srwr/AGDYaZ9u+xWFzqNt/pOnQQXMWy6tLeT93Ku7y9rblZlP6X/8Q/P/AASK/wCjSf8Ay/df/wDk+jLcyocCUHgMenKcn7ROnZqzSjZ8zi73i+lrW1DKM3w3hnhnleaJzqTftU6VnHlaUUm5ODveD6WtbXt9lV/ND/wcDf8AKXX4t/8AcB/9MGnUf8RA3/BXX/o7b/ywtA/+QK/S/wD4J+f8E/P2RP8AgqZ+yJ4S/bv/AG7/AISf8J18VvHX2/8A4SrxV/b1/pn277Ff3OnW3+jadPBbRbLW0t4/3cS7vL3NuZmY8uW5bX4ErvH49qUJL2aVO7d21K75lFWtF9b3tocOUZRifDPEvNM0anTmvZJUruXM2pJtSUFa0H1ve2nb8BqK/pe/4h+f+CRX/RpP/l+6/wD/ACfRXtf8RGyT/n3U+6P/AMmfRf8AEWuHP+fVX/wGH/yw/mhr+l7/AIN+f+URXwk/7j3/AKf9Rooo8Rv+RJT/AOvi/wDSZh4tf8k5S/6+x/8ASKh8a/8AB25/zb9/3Nf/ALh6+Nf+Dfn/AJS6/CT/ALj3/pg1GiijJv8Ak3sv+vdb85hw/wD8mqn/ANesR+dQ/per+NeiivK8M/8AmL/7h/8At54ng7/zHf8AcL/3If0vf8G/P/KIr4Sf9x7/ANP+o18a/wDB25/zb9/3Nf8A7h6KK8rJv+ThS/6+VvymeJw//wAnVn/19xH5VD41/wCDfn/lLr8JP+49/wCmDUa/peooo8Rv+R3T/wCva/8ASph4tf8AJR0v+vUf/S6h/GvX9L3/AAb8/wDKIr4Sf9x7/wBP+o0UV9V4jf8AIkp/9fF/6TM+28Wv+Scpf9fY/wDpFQ+yqKKK/Fj+eD//2Q==",
         "infos": {
          "height": 100,
          "width": 100
         },
         "type": "image"
        }
       },
       "_layers_options": {
        "Graph 01": {
         "auto_scale_domain": true,
         "domain": {
          "bottomRight": {
           "x": 140,
           "y": 99
          },
          "topLeft": {
           "x": 40,
           "y": -1
          }
         },
         "edge_labels_visible": false,
         "edge_map_visible": true,
         "edges_cmap": {
          "0": [
           "#8caaee",
           "#99d1db",
           "#a6d189",
           "#ef9f76",
           "#e78284",
           "#f4b8e4",
           "#f2d5cf",
           "#babbf1",
           "#85c1dc",
           "#81c8be",
           "#e5c890",
           "#ea999c",
           "#ca9ee6",
           "#eebebe"
          ]
         },
         "edges_opacity": 0.7,
         "foreground": true,
         "label": "",
         "node_labels_visible": false,
         "nodes_cmap": {
          "0": [
           "#8caaee",
           "#99d1db",
           "#a6d189",
           "#ef9f76",
           "#e78284",
           "#f4b8e4",
           "#f2d5cf",
           "#babbf1",
           "#85c1dc",
           "#81c8be",
           "#e5c890",
           "#ea999c",
           "#ca9ee6",
           "#eebebe"
          ]
         },
         "opacity": 1,
         "visible": true,
         "z_index": 2
        },
        "test": {
         "auto_scale_domain": true,
         "domain": {
          "bottomRight": {
           "x": 140,
           "y": 99
          },
          "topLeft": {
           "x": 40,
           "y": -1
          }
         },
         "foreground": false,
         "label": "",
         "opacity": 1,
         "visible": true,
         "z_index": 1
        }
       },
       "_target_transform": [
        0,
        0,
        1e-8
       ],
       "_transform": [
        0,
        0,
        1e-8
       ],
       "layout": "IPY_MODEL_b096fe38681742888b778667a2673091",
       "linkedTransformGroup": "1e9d6b48492f4accb08c2dd59d5af7a1"
      }
     },
     "21daa5d1496e4984a007f5019870ecdb": {
      "model_module": "jppype",
      "model_module_version": "0.2.0-a5",
      "model_name": "JView2DModel",
      "state": {
       "_domain": [
        -1,
        0,
        101,
        140
       ],
       "_instance_id": 19,
       "_layers_data": {
        "Graph 01": {
         "data": {
          "adj": [
           [
            0,
            1
           ]
          ],
          "nodes_yx": [
           [
            10,
            15
           ],
           [
            80,
            80
           ]
          ]
         },
         "infos": {
          "nbNodes": 2,
          "nodesDomain": [
           100,
           100,
           0,
           0
          ]
         },
         "type": "graph"
        },
        "test": {
         "data": "data:image/jpg;base64,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",
         "infos": {
          "height": 100,
          "width": 100
         },
         "type": "image"
        }
       },
       "_layers_options": {
        "Graph 01": {
         "auto_scale_domain": true,
         "domain": {
          "bottomRight": {
           "x": 100,
           "y": 100
          },
          "topLeft": {
           "x": 0,
           "y": 0
          }
         },
         "edge_labels_visible": false,
         "edge_map_visible": true,
         "edges_cmap": {
          "0": [
           "#8caaee",
           "#99d1db",
           "#a6d189",
           "#ef9f76",
           "#e78284",
           "#f4b8e4",
           "#f2d5cf",
           "#babbf1",
           "#85c1dc",
           "#81c8be",
           "#e5c890",
           "#ea999c",
           "#ca9ee6",
           "#eebebe"
          ]
         },
         "edges_opacity": 0.7,
         "foreground": true,
         "label": "",
         "node_labels_visible": false,
         "nodes_cmap": {
          "0": [
           "#8caaee",
           "#99d1db",
           "#a6d189",
           "#ef9f76",
           "#e78284",
           "#f4b8e4",
           "#f2d5cf",
           "#babbf1",
           "#85c1dc",
           "#81c8be",
           "#e5c890",
           "#ea999c",
           "#ca9ee6",
           "#eebebe"
          ]
         },
         "opacity": 1,
         "visible": true,
         "z_index": 2
        },
        "test": {
         "auto_scale_domain": true,
         "domain": {
          "bottomRight": {
           "x": 100,
           "y": 100
          },
          "topLeft": {
           "x": 0,
           "y": 0
          }
         },
         "foreground": false,
         "label": "",
         "opacity": 1,
         "visible": true,
         "z_index": 1
        }
       },
       "_left_ruler": false,
       "_target_transform": [
        0,
        0,
        1e-8
       ],
       "_transform": [
        0.5,
        0.5,
        0
       ],
       "layout": "IPY_MODEL_254e9012c2c1409ca4af178efdb974e1",
       "linkedTransformGroup": "56e8f02268bc42d59eb9a2910d28f02d"
      }
     },
     "23e1b44d6dd34040a176dc87b59e34fc": {
      "model_module": "@jupyter-widgets/controls",
      "model_module_version": "2.0.0",
      "model_name": "GridBoxModel",
      "state": {
       "children": [
        "IPY_MODEL_460a999543d749e7a43238504ceb285d",
        "IPY_MODEL_10a99d7485084eac953a86979709995e"
       ],
       "layout": "IPY_MODEL_259dbc51175f4a7c9f3b7e6d6ceebf14"
      }
     },
     "254e9012c2c1409ca4af178efdb974e1": {
      "model_module": "@jupyter-widgets/base",
      "model_module_version": "2.0.0",
      "model_name": "LayoutModel",
      "state": {}
     },
     "259dbc51175f4a7c9f3b7e6d6ceebf14": {
      "model_module": "@jupyter-widgets/base",
      "model_module_version": "2.0.0",
      "model_name": "LayoutModel",
      "state": {
       "grid_gap": "1px",
       "grid_template_columns": "repeat(2, 1fr)",
       "grid_template_rows": "repeat(1, 650px)",
       "width": "100%"
      }
     },
     "2703946dc75146019827f0c29bc30e68": {
      "model_module": "@jupyter-widgets/controls",
      "model_module_version": "2.0.0",
      "model_name": "GridBoxModel",
      "state": {
       "children": [
        "IPY_MODEL_56cc6a9c7c68498193b7e3a52780ad3b",
        "IPY_MODEL_7d55b9c0e54c471c8c8cffed5165a543"
       ],
       "layout": "IPY_MODEL_8f5944f24e3748b587f134d9811bb3e4"
      }
     },
     "398f048e5d014bb4a717353de281f1a9": {
      "model_module": "jppype",
      "model_module_version": "0.2.0-a5",
      "model_name": "JView2DModel",
      "state": {
       "_instance_id": 5,
       "_left_ruler": false,
       "_target_transform": [
        0,
        0,
        1e-8
       ],
       "_transform": [
        0,
        0,
        1e-8
       ],
       "layout": "IPY_MODEL_e2ee59533c4a4f4993094c4fce47efe7",
       "linkedTransformGroup": "534ccb2b5902489c83e6a52f40675102"
      }
     },
     "3e00374a5ac54becb41a2b75eb64c7b4": {
      "model_module": "@jupyter-widgets/controls",
      "model_module_version": "2.0.0",
      "model_name": "GridBoxModel",
      "state": {
       "children": [
        "IPY_MODEL_055d87529aa54e48a3eaa2a952c0ac8e",
        "IPY_MODEL_a0699376d9644b289230f1419e8545f6"
       ],
       "layout": "IPY_MODEL_5ddcb305b39a4ce58a57baad4991a58f"
      }
     },
     "3f3a15ff7cff4fdcb5a7bafc560f4e6c": {
      "model_module": "@jupyter-widgets/base",
      "model_module_version": "2.0.0",
      "model_name": "LayoutModel",
      "state": {}
     },
     "40041ad77ece4a7a9c0ec9a80eab5085": {
      "model_module": "jppype",
      "model_module_version": "0.2.0-a5",
      "model_name": "JView2DModel",
      "state": {
       "_domain": [
        -1,
        40,
        100,
        100
       ],
       "_instance_id": 2,
       "_layers_data": {
        "test": {
         "data": "data:image/jpg;base64,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",
         "infos": {
          "height": 100,
          "width": 100
         },
         "type": "image"
        }
       },
       "_layers_options": {
        "test": {
         "auto_scale_domain": true,
         "domain": {
          "bottomRight": {
           "x": 140,
           "y": 99
          },
          "topLeft": {
           "x": 40,
           "y": -1
          }
         },
         "foreground": false,
         "label": "",
         "opacity": 1,
         "visible": true,
         "z_index": 1
        }
       },
       "_target_transform": [
        0,
        0,
        1e-8
       ],
       "_transform": [
        0.5,
        0.49999999999999994,
        0
       ],
       "layout": "IPY_MODEL_02181b63ca654f5fb246db698d0424d9",
       "linkedTransformGroup": "617c870523fd4f4d9043dc221b27301c"
      }
     },
     "460a999543d749e7a43238504ceb285d": {
      "model_module": "jppype",
      "model_module_version": "0.2.0-a5",
      "model_name": "JView2DModel",
      "state": {
       "_domain": [
        -1,
        40,
        100,
        100
       ],
       "_instance_id": 14,
       "_layers_data": {
        "Graph 01": {
         "data": {
          "adj": [
           [
            0,
            1
           ]
          ],
          "nodes_yx": [
           [
            10,
            15
           ],
           [
            80,
            80
           ]
          ]
         },
         "infos": {
          "nbNodes": 2,
          "nodesDomain": [
           100,
           100,
           -1,
           40
          ]
         },
         "type": "graph"
        },
        "test": {
         "data": "data:image/jpg;base64,/9j/4AAQSkZJRgABAQAAAQABAAD/2wBDAAIBAQEBAQIBAQECAgICAgQDAgICAgUEBAMEBgUGBgYFBgYGBwkIBgcJBwYGCAsICQoKCgoKBggLDAsKDAkKCgr/2wBDAQICAgICAgUDAwUKBwYHCgoKCgoKCgoKCgoKCgoKCgoKCgoKCgoKCgoKCgoKCgoKCgoKCgoKCgoKCgoKCgoKCgr/wAARCABkAGQDASIAAhEBAxEB/8QAHwAAAQUBAQEBAQEAAAAAAAAAAAECAwQFBgcICQoL/8QAtRAAAgEDAwIEAwUFBAQAAAF9AQIDAAQRBRIhMUEGE1FhByJxFDKBkaEII0KxwRVS0fAkM2JyggkKFhcYGRolJicoKSo0NTY3ODk6Q0RFRkdISUpTVFVWV1hZWmNkZWZnaGlqc3R1dnd4eXqDhIWGh4iJipKTlJWWl5iZmqKjpKWmp6ipqrKztLW2t7i5usLDxMXGx8jJytLT1NXW19jZ2uHi4+Tl5ufo6erx8vP09fb3+Pn6/8QAHwEAAwEBAQEBAQEBAQAAAAAAAAECAwQFBgcICQoL/8QAtREAAgECBAQDBAcFBAQAAQJ3AAECAxEEBSExBhJBUQdhcRMiMoEIFEKRobHBCSMzUvAVYnLRChYkNOEl8RcYGRomJygpKjU2Nzg5OkNERUZHSElKU1RVVldYWVpjZGVmZ2hpanN0dXZ3eHl6goOEhYaHiImKkpOUlZaXmJmaoqOkpaanqKmqsrO0tba3uLm6wsPExcbHyMnK0tPU1dbX2Nna4uPk5ebn6Onq8vP09fb3+Pn6/9oADAMBAAIRAxEAPwD9/K/mh/4OBv8AlLr8W/8AuA/+mDTqP+Igb/grr/0dt/5YWgf/ACBX6X/8E/P+Cfn7In/BUz9kTwl+3f8At3/CT/hOvit46+3/APCVeKv7ev8ATPt32K/udOtv9G06eC2i2Wtpbx/u4l3eXubczMx/T8ty2vwJXePx7UoSXs0qd27tqV3zKKtaL63vbQ/ZcoyjE+GeJeaZo1OnNeySpXcuZtSTakoK1oPre9tO3jX/AAaR/wDNwP8A3Kn/ALmK+yv+Dgb/AJRFfFv/ALgP/p/06vjX/grd/wAaKv8AhX//AA6t/wCLW/8AC0v7V/4Tv/mOf2n/AGb9j+xf8hf7V5Pl/wBoXf8Aqtm/zfn3bU2+Nf8ABPz/AIKB/td/8FTP2u/CX7CH7d/xb/4Tr4U+Ovt//CVeFf7BsNM+3fYrC51G2/0nToILmLZdWlvJ+7lXd5e1tysykrZbXzXMVxLSaVBNVOV357UrKSsk43fI7e9ba7XQxGUYnO81XGFBpYaLjV5ZXVTlo2UlZJxu/Zvl9+zurta2/NCv7KK+Nf8AiH5/4JFf9Gk/+X7r/wD8n1+Nf/EQN/wV1/6O2/8ALC0D/wCQK1zP/jYHJ/Z3uexvze00vz2tbl5/5He9um/TfOf+Npcn9le59Xvze192/tLcvLyc97cjve3S19bH/BwN/wApdfi3/wBwH/0wadX2V/waR/8ANwP/AHKn/uYr2X/gn5/wT8/ZE/4KmfsieEv27/27/hJ/wnXxW8dfb/8AhKvFX9vX+mfbvsV/c6dbf6Np08FtFstbS3j/AHcS7vL3NuZmY+Nf8Fbv+NFX/Cv/APh1b/xa3/haX9q/8J3/AMxz+0/7N+x/Yv8AkL/avJ8v+0Lv/VbN/m/Pu2pt1rZlQzXLlw1STVdJU+Z25L0rOTum5WfI7e7fa6XTfEZvhs7ypcH0E1iYqNLmlZU+ajZyd03Kz9m+X3Lu6ulrb7K/4OBv+URXxb/7gP8A6f8ATq/mhr9L/wDgn5/wUD/a7/4Kmftd+Ev2EP27/i3/AMJ18KfHX2//AISrwr/YNhpn277FYXOo23+k6dBBcxbLq0t5P3cq7vL2tuVmU/pf/wAQ/P8AwSK/6NJ/8v3X/wD5Poy3MqHAlB4DHpynJ+0Tp2as0o2fM4u94vpa1tQyjN8N4Z4Z5Xmic6k37VOlZx5WlFJuTg73g+lrW17fZVfzQ/8ABwN/yl1+Lf8A3Af/AEwadR/xEDf8Fdf+jtv/ACwtA/8AkCv0v/4J+f8ABPz9kT/gqZ+yJ4S/bv8A27/hJ/wnXxW8dfb/APhKvFX9vX+mfbvsV/c6dbf6Np08FtFstbS3j/dxLu8vc25mZjy5bltfgSu8fj2pQkvZpU7t3bUrvmUVa0X1ve2hw5RlGJ8M8S80zRqdOa9klSu5czakm1JQVrQfW97advwGor+l7/iH5/4JFf8ARpP/AJfuv/8AyfRXtf8AERsk/wCfdT7o/wDyZ9F/xFrhz/n1V/8AAYf/ACw+Nf8AiEj/AOsgP/mKf/vrR/w9u/4cVf8AGq3/AIZ+/wCFpf8ACrf+Z7/4Sv8AsP8AtP8AtL/ib/8AHl9luvJ8v+0PJ/177/K3/Lu2L9lf8RA3/BIr/o7b/wAsLX//AJAr80P+Cgf/AAT8/a7/AOCpn7Xfi39u/wDYQ+En/CdfCnx19g/4RXxV/b1hpn277FYW2nXP+jajPBcxbLq0uI/3kS7vL3LuVlY+LltbMc1rulxKmqCV4+0Xslz3SVpJQu+Vy0vtd200+dyjEZrneJdDjBOOGS5o+1j7GPtE0laSVO75XP3bu6u7aXXsv/K0x/1Qr/hRf/cz/wBt/wBtf+AH2byf7J/6a+Z9o/g2fOf8Okf+HFX/ABtS/wCGgf8AhaX/AAq3/mRP+EU/sP8AtP8AtL/iUf8AH79quvJ8v+0PO/1D7/K2fLu3qf8ABJH/AI0Vf8LA/wCHqX/Frf8AhaX9lf8ACCf8xz+0/wCzftn23/kEfavJ8v8AtC0/1uzf5vybtr7fZf8AgoH/AMFA/wBkT/gqZ+yJ4t/YQ/YQ+Lf/AAnXxW8dfYP+EV8K/wBg3+mfbvsV/bajc/6TqMEFtFstbS4k/eSru8vau5mVSVq2Y0MxWCwSf9nXSbS5ockre1/e2btdzu+f3ddVbQxGIzXDZqsuy5N5S3GLcY81P2cre2/fWbSTc+aXP7muqtp41/xFuf8AWP7/AMyt/wDeqj/iEj/6yA/+Yp/++tfGv/EPz/wV1/6NJ/8AL90D/wCT6/ZT/iIG/wCCRX/R23/lha//APIFa5n/AMJPJ/qv73Nf2ns/3u1uS9+fl3lba+u9tN85/wCELk/1M97nv7X2X7/a3s+a/tOXedtubXe2nxr/AMPbv+HFX/Gq3/hn7/haX/Crf+Z7/wCEr/sP+0/7S/4m/wDx5fZbryfL/tDyf9e+/wArf8u7Yp/ytMf9UK/4UX/3M/8Abf8AbX/gB9m8n+yf+mvmfaP4Nnz+Nf8ABQP/AIJ+ftd/8FTP2u/Fv7d/7CHwk/4Tr4U+OvsH/CK+Kv7esNM+3fYrC2065/0bUZ4LmLZdWlxH+8iXd5e5dysrH2X/AIJI/wDGir/hYH/D1L/i1v8AwtL+yv8AhBP+Y5/af9m/bPtv/II+1eT5f9oWn+t2b/N+TdtfbrWo5dQy5Y3BNf2jZNpPmnzyt7X91dq9nO65Pd10VtN8Rh8qw2VLMcuaebNRk1GXNU9pK3tv3N2k0nPmjye5roraH/DpH/hxV/xtS/4aB/4Wl/wq3/mRP+EU/sP+0/7S/wCJR/x+/arryfL/ALQ87/UPv8rZ8u7ep/xFuf8AWP7/AMyt/wDeqvZf+Cgf/BQP9kT/AIKmfsieLf2EP2EPi3/wnXxW8dfYP+EV8K/2Df6Z9u+xX9tqNz/pOowQW0Wy1tLiT95Ku7y9q7mZVP5of8Q/P/BXX/o0n/y/dA/+T6Mto5dmtB1eJWlXTtH2j9k+SyatFOF1zOWtt7q+mhlGHyrO8M6/GDUcSnyx9rL2MvZpJq0U6d1zOfvWd3dX0svsr/iEj/6yA/8AmKf/AL60f8Pbv+HFX/Gq3/hn7/haX/Crf+Z7/wCEr/sP+0/7S/4m/wDx5fZbryfL/tDyf9e+/wArf8u7Yv2V/wARA3/BIr/o7b/ywtf/APkCvzQ/4KB/8E/P2u/+Cpn7Xfi39u/9hD4Sf8J18KfHX2D/AIRXxV/b1hpn277FYW2nXP8Ao2ozwXMWy6tLiP8AeRLu8vcu5WVjy5bWzHNa7pcSpqglePtF7Jc90laSULvlctL7XdtNOHKMRmud4l0OME44ZLmj7WPsY+0TSVpJU7vlc/du7q7tpdey/wDEW5/1j+/8yt/96qK+Nf8AiH5/4K6/9Gk/+X7oH/yfRXtf2N4e/wA1P/wc/wD5M+i/1f8ACr+el/4Pf/yw+Na/pe/4N+f+URXwk/7j3/p/1Gvsqv5of+Dgb/lLr8W/+4D/AOmDTq8r+0/+Igf8J3J7Hk/ec1+e9vdta0P573v02108T+2P+Ipf8JXJ9X5P3vNf2l+X3OXltC1+e979LW1uvsr/AIO3P+bfv+5r/wDcPXxr/wAG/P8Ayl1+En/ce/8ATBqNfZX/AAaR/wDNwP8A3Kn/ALmK+yv+Dgb/AJRFfFv/ALgP/p/06j+0/wCyf+MX5Oa/7v2l7fxdb8ln8PPtza23V9D+2P7C/wCMM5Ofm/de1vb+Przezs/h9ptz+9bdX0+yq/jXor+yij/k3X/T/wBv/wBucvJ/4He/P5Wt1vof8mm/6ifrP/cPl9n/AODL39p5Wt1vp8a/8G/P/KIr4Sf9x7/0/wCo18a/8Hbn/Nv3/c1/+4evjX/g4G/5S6/Fv/uA/wDpg06vsr/g0j/5uB/7lT/3MUf2Z/ZP/GUc/Nf957O1v4ulue7+Hn35dbbK+h/Y/wDYX/GZ8/PzfvfZWt/H05faXfw+035Petsr6fGv/Bvz/wApdfhJ/wBx7/0wajX9L1fGv/BwN/yiK+Lf/cB/9P8Ap1fzQ0f2Z/xED/hR5/Y8n7vltz3t7173h/Pa1um+uh/Y/wDxFL/hV5/q/J+65be0vy+/zc14Wvz2tbpe+tkV/S9/wb8/8oivhJ/3Hv8A0/6jX2VX80P/AAcDf8pdfi3/ANwH/wBMGnUf2n/xED/hO5PY8n7zmvz3t7trWh/Pe9+m2uh/bH/EUv8AhK5Pq/J+95r+0vy+5y8toWvz3vfpa2t1/S9RX8a9FH/EM/8AqL/8p/8A24f8Qd/6jv8Ayl/90Psr/iIG/wCCuv8A0dt/5YWgf/IFfpf/AME/P+Cfn7In/BUz9kTwl+3f+3f8JP8AhOvit46+3/8ACVeKv7ev9M+3fYr+5062/wBG06eC2i2Wtpbx/u4l3eXubczMx8a/4hI/+sgP/mKf/vrR/wAPbv8AhxV/xqt/4Z+/4Wl/wq3/AJnv/hK/7D/tP+0v+Jv/AMeX2W68ny/7Q8n/AF77/K3/AC7ti65lWy7NaCpcNJKuneXs17J8lmneTULrmcdL72dtNN83xGVZ3hlQ4PSjiU+aXso+xl7NJp3k1TuuZw927u7O2l0f8Fbv+NFX/Cv/APh1b/xa3/haX9q/8J3/AMxz+0/7N+x/Yv8AkL/avJ8v+0Lv/VbN/m/Pu2pt8a/4J+f8FA/2u/8AgqZ+134S/YQ/bv8Ai3/wnXwp8dfb/wDhKvCv9g2GmfbvsVhc6jbf6Tp0EFzFsurS3k/dyru8va25WZT7L/ytMf8AVCv+FF/9zP8A23/bX/gB9m8n+yf+mvmfaP4Nnzn/AA6R/wCHFX/G1L/hoH/haX/Crf8AmRP+EU/sP+0/7S/4lH/H79quvJ8v+0PO/wBQ+/ytny7t6lGtl1DLngsal/aNmk2uafPK/sv3tmr2cLPn93TVW0MPiMqw2VPLsxSebNSinKPNU9pK/sf31mk0nDllz+5pqrafZX/EPz/wSK/6NJ/8v3X/AP5Pr8a/+Igb/grr/wBHbf8AlhaB/wDIFfZX/EW5/wBY/v8AzK3/AN6qP+ISP/rID/5in/761lln/CTz/wCtHvc1vZ+0/e7X57W5+XeN9r6b20wyf/hC5/8AXP3ue3sva/v9r+05be05d4X25tN7aey/8E/P+Cfn7In/AAVM/ZE8Jft3/t3/AAk/4Tr4reOvt/8AwlXir+3r/TPt32K/udOtv9G06eC2i2Wtpbx/u4l3eXubczMx8a/4K3f8aKv+Ff8A/Dq3/i1v/C0v7V/4Tv8A5jn9p/2b9j+xf8hf7V5Pl/2hd/6rZv8AN+fdtTaf8Pbv+HFX/Gq3/hn7/haX/Crf+Z7/AOEr/sP+0/7S/wCJv/x5fZbryfL/ALQ8n/Xvv8rf8u7Yp/ytMf8AVCv+FF/9zP8A23/bX/gB9m8n+yf+mvmfaP4Nnz5UaOY0MxeNxrf9nXbSb5ockr+y/dXbtdwsuT3dNFbTDD4fNcNmrzHMW3lLcpJSlzU/Zyv7H9zdtJNw5Y8nuaaK2njX/BPz/goH+13/AMFTP2u/CX7CH7d/xb/4Tr4U+Ovt/wDwlXhX+wbDTPt32KwudRtv9J06CC5i2XVpbyfu5V3eXtbcrMp/S/8A4h+f+CRX/RpP/l+6/wD/ACfXxr/w6R/4cVf8bUv+Ggf+Fpf8Kt/5kT/hFP7D/tP+0v8AiUf8fv2q68ny/wC0PO/1D7/K2fLu3qf8Rbn/AFj+/wDMrf8A3qozKjmOa11V4abVBK0vZv2S57tu8W4XfK4622sr6aGb4fNc7xKr8HtxwyXLL2UvYx9om27xbp3fK4e9Z3VlfSy+Nf8AiIG/4K6/9Hbf+WFoH/yBX6X/APBPz/gn5+yJ/wAFTP2RPCX7d/7d/wAJP+E6+K3jr7f/AMJV4q/t6/0z7d9iv7nTrb/RtOngtotlraW8f7uJd3l7m3MzMfGv+ISP/rID/wCYp/8AvrR/w9u/4cVf8arf+Gfv+Fpf8Kt/5nv/AISv+w/7T/tL/ib/APHl9luvJ8v+0PJ/177/ACt/y7ti9WZVsuzWgqXDSSrp3l7NeyfJZp3k1C65nHS+9nbTTuzfEZVneGVDg9KOJT5peyj7GXs0mneTVO65nD3bu7s7aXX2V/xD8/8ABIr/AKNJ/wDL91//AOT6K+Nf+Itz/rH9/wCZW/8AvVRXi/2N4hfzVP8Awcv/AJM+d/1f8Vf56v8A4PX/AMsPsr/iIG/4JFf9Hbf+WFr/AP8AIFfmh/wUD/4J+ftd/wDBUz9rvxb+3f8AsIfCT/hOvhT46+wf8Ir4q/t6w0z7d9isLbTrn/RtRnguYtl1aXEf7yJd3l7l3KysfzQr+l7/AIN+f+URXwk/7j3/AKf9Rr2syy2hwJQWPwDcpyfs2qlmrNOV1yqLveK62tfQ+izfKMN4Z4ZZplbc6k37JqrZx5WnJtKKg73gutrX07fGv/BJH/jRV/wsD/h6l/xa3/haX9lf8IJ/zHP7T/s37Z9t/wCQR9q8ny/7QtP9bs3+b8m7a+32X/goH/wUD/ZE/wCCpn7Ini39hD9hD4t/8J18VvHX2D/hFfCv9g3+mfbvsV/bajc/6TqMEFtFstbS4k/eSru8vau5mVT41/wduf8ANv3/AHNf/uHr41/4N+f+Uuvwk/7j3/pg1GijltDNcufEtVtV0nU5VbkvSuoqzTlZ8iv7197NdDD5Rhs7yp8YV21iYqVXljZU+ajdRVmnKz9mub37u7s1pY/4h+f+Cuv/AEaT/wCX7oH/AMn1+yn/ABEDf8Eiv+jtv/LC1/8A+QK+yq/jXrLLP+Ngc/8AaPuexty+z0vz3vfm5/5Fa1uu/TDJ/wDjaXP/AGr7n1e3L7L3b+0vzc3Pz3tyK1rdb30t+l//AAUD/wCCfn7Xf/BUz9rvxb+3f+wh8JP+E6+FPjr7B/wivir+3rDTPt32KwttOuf9G1GeC5i2XVpcR/vIl3eXuXcrKx9l/wCCSP8Axoq/4WB/w9S/4tb/AMLS/sr/AIQT/mOf2n/Zv2z7b/yCPtXk+X/aFp/rdm/zfk3bX2/ZX/Bvz/yiK+En/ce/9P8AqNfGv/B25/zb9/3Nf/uHrKjmVfNcxfDVVJUE3T5lfntSu4u7bjd8iv7tt7JdMMPm+JzvNXwfXSWGi5UuaN1U5aN3F3bcbv2a5vcs7uyWlvZf+Cgf/BQP9kT/AIKmfsieLf2EP2EPi3/wnXxW8dfYP+EV8K/2Df6Z9u+xX9tqNz/pOowQW0Wy1tLiT95Ku7y9q7mZVP5of8Q/P/BXX/o0n/y/dA/+T6P+Dfn/AJS6/CT/ALj3/pg1Gv6XqMyzKvwJXWAwCUoSXtG6l27tuNlyuKtaK6XvfUM3zfE+GeJWV5WlOnNe1bq3cuZtxaTi4K1oLpe99e3xr/xEDf8ABIr/AKO2/wDLC1//AOQK/ND/AIKB/wDBPz9rv/gqZ+134t/bv/YQ+En/AAnXwp8dfYP+EV8Vf29YaZ9u+xWFtp1z/o2ozwXMWy6tLiP95Eu7y9y7lZWP5oV/S9/wb8/8oivhJ/3Hv/T/AKjXVmWW0OBKCx+AblOT9m1Us1ZpyuuVRd7xXW1r6Hdm+UYbwzwyzTK251Jv2TVWzjytOTaUVB3vBdbWvp2/Gv8A4h+f+Cuv/RpP/l+6B/8AJ9Ff0vUV4v8AxEbO/wDn3T+6X/yZ87/xFriP/n1S/wDAZ/8AywK/mh/4OBv+Uuvxb/7gP/pg06j/AIiBv+Cuv/R23/lhaB/8gV+l/wDwT8/4J+fsif8ABUz9kTwl+3f+3f8ACT/hOvit46+3/wDCVeKv7ev9M+3fYr+5062/0bTp4LaLZa2lvH+7iXd5e5tzMzH0Mty2vwJXePx7UoSXs0qd27tqV3zKKtaL63vbQ9TKMoxPhniXmmaNTpzXskqV3LmbUk2pKCtaD63vbTt41/waR/8ANwP/AHKn/uYr7K/4OBv+URXxb/7gP/p/06vjX/grd/xoq/4V/wD8Orf+LW/8LS/tX/hO/wDmOf2n/Zv2P7F/yF/tXk+X/aF3/qtm/wA35921NvjX/BPz/goH+13/AMFTP2u/CX7CH7d/xb/4Tr4U+Ovt/wDwlXhX+wbDTPt32KwudRtv9J06CC5i2XVpbyfu5V3eXtbcrMpK2W181zFcS0mlQTVTld+e1KykrJON3yO3vW2u10MRlGJzvNVxhQaWGi41eWV1U5aNlJWScbv2b5ffs7q7WtvzQr+yivjX/iH5/wCCRX/RpP8A5fuv/wDyfX41/wDEQN/wV1/6O2/8sLQP/kCtcz/42Byf2d7nsb83tNL89rW5ef8Akd726b9N85/42lyf2V7n1e/N7X3b+0ty8vJz3tyO97dLX1sf8HA3/KXX4t/9wH/0wadX2V/waR/83A/9yp/7mK9l/wCCfn/BPz9kT/gqZ+yJ4S/bv/bv+En/AAnXxW8dfb/+Eq8Vf29f6Z9u+xX9zp1t/o2nTwW0Wy1tLeP93Eu7y9zbmZmPjX/BW7/jRV/wr/8A4dW/8Wt/4Wl/av8Awnf/ADHP7T/s37H9i/5C/wBq8ny/7Qu/9Vs3+b8+7am3WtmVDNcuXDVJNV0lT5nbkvSs5O6blZ8jt7t9rpdN8Rm+GzvKlwfQTWJio0uaVlT5qNnJ3TcrP2b5fcu7q6Wtvsr/AIOBv+URXxb/AO4D/wCn/Tq/mhr9L/8Agn5/wUD/AGu/+Cpn7XfhL9hD9u/4t/8ACdfCnx19v/4Srwr/AGDYaZ9u+xWFzqNt/pOnQQXMWy6tLeT93Ku7y9rblZlP6X/8Q/P/AASK/wCjSf8Ay/df/wDk+jLcyocCUHgMenKcn7ROnZqzSjZ8zi73i+lrW1DKM3w3hnhnleaJzqTftU6VnHlaUUm5ODveD6WtbXt9lV/ND/wcDf8AKXX4t/8AcB/9MGnUf8RA3/BXX/o7b/ywtA/+QK/S/wD4J+f8E/P2RP8AgqZ+yJ4S/bv/AG7/AISf8J18VvHX2/8A4SrxV/b1/pn277Ff3OnW3+jadPBbRbLW0t4/3cS7vL3NuZmY8uW5bX4ErvH49qUJL2aVO7d21K75lFWtF9b3tocOUZRifDPEvNM0anTmvZJUruXM2pJtSUFa0H1ve2nb8BqK/pe/4h+f+CRX/RpP/l+6/wD/ACfRXtf8RGyT/n3U+6P/AMmfRf8AEWuHP+fVX/wGH/yw/mhr+l7/AIN+f+URXwk/7j3/AKf9Rooo8Rv+RJT/AOvi/wDSZh4tf8k5S/6+x/8ASKh8a/8AB25/zb9/3Nf/ALh6+Nf+Dfn/AJS6/CT/ALj3/pg1GiijJv8Ak3sv+vdb85hw/wD8mqn/ANesR+dQ/per+NeiivK8M/8AmL/7h/8At54ng7/zHf8AcL/3If0vf8G/P/KIr4Sf9x7/ANP+o18a/wDB25/zb9/3Nf8A7h6KK8rJv+ThS/6+VvymeJw//wAnVn/19xH5VD41/wCDfn/lLr8JP+49/wCmDUa/peooo8Rv+R3T/wCva/8ASph4tf8AJR0v+vUf/S6h/GvX9L3/AAb8/wDKIr4Sf9x7/wBP+o0UV9V4jf8AIkp/9fF/6TM+28Wv+Scpf9fY/wDpFQ+yqKKK/Fj+eD//2Q==",
         "infos": {
          "height": 100,
          "width": 100
         },
         "type": "image"
        }
       },
       "_layers_options": {
        "Graph 01": {
         "auto_scale_domain": true,
         "domain": {
          "bottomRight": {
           "x": 140,
           "y": 99
          },
          "topLeft": {
           "x": 40,
           "y": -1
          }
         },
         "edge_labels_visible": false,
         "edge_map_visible": true,
         "edges_cmap": {
          "0": [
           "#8caaee",
           "#99d1db",
           "#a6d189",
           "#ef9f76",
           "#e78284",
           "#f4b8e4",
           "#f2d5cf",
           "#babbf1",
           "#85c1dc",
           "#81c8be",
           "#e5c890",
           "#ea999c",
           "#ca9ee6",
           "#eebebe"
          ]
         },
         "edges_opacity": 0.7,
         "foreground": true,
         "label": "",
         "node_labels_visible": false,
         "nodes_cmap": {
          "0": [
           "#8caaee",
           "#99d1db",
           "#a6d189",
           "#ef9f76",
           "#e78284",
           "#f4b8e4",
           "#f2d5cf",
           "#babbf1",
           "#85c1dc",
           "#81c8be",
           "#e5c890",
           "#ea999c",
           "#ca9ee6",
           "#eebebe"
          ]
         },
         "opacity": 1,
         "visible": true,
         "z_index": 2
        },
        "test": {
         "auto_scale_domain": true,
         "domain": {
          "bottomRight": {
           "x": 140,
           "y": 99
          },
          "topLeft": {
           "x": 40,
           "y": -1
          }
         },
         "foreground": false,
         "label": "",
         "opacity": 1,
         "visible": true,
         "z_index": 1
        }
       },
       "_target_transform": [
        0,
        0,
        1e-8
       ],
       "_transform": [
        0,
        0,
        1e-8
       ],
       "layout": "IPY_MODEL_012bd123fbf4450fb8fe2e80a040e311",
       "linkedTransformGroup": "a050ebafc7f341ec9ddf6236a2c4808c"
      }
     },
     "4f9da599625a4c7ab800a6acfedf2338": {
      "model_module": "jppype",
      "model_module_version": "0.2.0-a5",
      "model_name": "JView2DModel",
      "state": {
       "_domain": [
        -1,
        40,
        100,
        100
       ],
       "_instance_id": 20,
       "_layers_data": {
        "Graph 01": {
         "data": {
          "adj": [
           [
            0,
            1
           ]
          ],
          "nodes_yx": [
           [
            10,
            15
           ],
           [
            80,
            80
           ]
          ]
         },
         "infos": {
          "nbNodes": 2,
          "nodesDomain": [
           100,
           100,
           -1,
           40
          ]
         },
         "type": "graph"
        },
        "test": {
         "data": "data:image/jpg;base64,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",
         "infos": {
          "height": 100,
          "width": 100
         },
         "type": "image"
        }
       },
       "_layers_options": {
        "Graph 01": {
         "auto_scale_domain": true,
         "domain": {
          "bottomRight": {
           "x": 140,
           "y": 99
          },
          "topLeft": {
           "x": 40,
           "y": -1
          }
         },
         "edge_labels_visible": false,
         "edge_map_visible": true,
         "edges_cmap": {
          "0": [
           "#8caaee",
           "#99d1db",
           "#a6d189",
           "#ef9f76",
           "#e78284",
           "#f4b8e4",
           "#f2d5cf",
           "#babbf1",
           "#85c1dc",
           "#81c8be",
           "#e5c890",
           "#ea999c",
           "#ca9ee6",
           "#eebebe"
          ]
         },
         "edges_opacity": 0.7,
         "foreground": true,
         "label": "",
         "node_labels_visible": false,
         "nodes_cmap": {
          "0": [
           "#8caaee",
           "#99d1db",
           "#a6d189",
           "#ef9f76",
           "#e78284",
           "#f4b8e4",
           "#f2d5cf",
           "#babbf1",
           "#85c1dc",
           "#81c8be",
           "#e5c890",
           "#ea999c",
           "#ca9ee6",
           "#eebebe"
          ]
         },
         "opacity": 1,
         "visible": true,
         "z_index": 2
        },
        "test": {
         "auto_scale_domain": true,
         "domain": {
          "bottomRight": {
           "x": 140,
           "y": 99
          },
          "topLeft": {
           "x": 40,
           "y": -1
          }
         },
         "foreground": false,
         "label": "",
         "opacity": 1,
         "visible": true,
         "z_index": 1
        }
       },
       "_target_transform": [
        0,
        0,
        1e-8
       ],
       "_transform": [
        0,
        0,
        1e-8
       ],
       "layout": "IPY_MODEL_bb482e2708b2475c9b302308f5112771",
       "linkedTransformGroup": "70ef718d0e8f4185938f5df97fed7c61"
      }
     },
     "511437c98a954f1d9be5a73c849f82e5": {
      "model_module": "jppype",
      "model_module_version": "0.2.0-a5",
      "model_name": "JView2DModel",
      "state": {
       "_domain": [
        -1,
        40,
        200,
        100
       ],
       "_instance_id": 8,
       "_layers_data": {
        "Graph 01": {
         "data": {
          "adj": [
           [
            0,
            1
           ]
          ],
          "nodes_yx": [
           [
            10,
            15
           ],
           [
            80,
            80
           ]
          ]
         },
         "infos": {
          "nbNodes": 2,
          "nodesDomain": [
           200,
           100,
           -1,
           40
          ]
         },
         "type": "graph"
        },
        "test": {
         "data": "data:image/jpg;base64,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",
         "infos": {
          "height": 100,
          "width": 100
         },
         "type": "image"
        }
       },
       "_layers_options": {
        "Graph 01": {
         "auto_scale_domain": true,
         "domain": {
          "bottomRight": {
           "x": 140,
           "y": 199
          },
          "topLeft": {
           "x": 40,
           "y": -1
          }
         },
         "edge_labels_visible": false,
         "edge_map_visible": true,
         "edges_cmap": {
          "0": [
           "#8caaee",
           "#99d1db",
           "#a6d189",
           "#ef9f76",
           "#e78284",
           "#f4b8e4",
           "#f2d5cf",
           "#babbf1",
           "#85c1dc",
           "#81c8be",
           "#e5c890",
           "#ea999c",
           "#ca9ee6",
           "#eebebe"
          ]
         },
         "edges_opacity": 0.7,
         "foreground": true,
         "label": "",
         "node_labels_visible": false,
         "nodes_cmap": {
          "0": [
           "#8caaee",
           "#99d1db",
           "#a6d189",
           "#ef9f76",
           "#e78284",
           "#f4b8e4",
           "#f2d5cf",
           "#babbf1",
           "#85c1dc",
           "#81c8be",
           "#e5c890",
           "#ea999c",
           "#ca9ee6",
           "#eebebe"
          ]
         },
         "opacity": 1,
         "visible": true,
         "z_index": 2
        },
        "test": {
         "auto_scale_domain": true,
         "domain": {
          "bottomRight": {
           "x": 140,
           "y": 199
          },
          "topLeft": {
           "x": 40,
           "y": -1
          }
         },
         "foreground": false,
         "label": "",
         "opacity": 1,
         "visible": true,
         "z_index": 1
        }
       },
       "_target_transform": [
        0,
        0,
        1e-8
       ],
       "_transform": [
        0.5,
        0.5,
        0
       ],
       "layout": "IPY_MODEL_14b2a5c6fd1b4afb98646f6918a38ba0",
       "linkedTransformGroup": "85e4c5bbc367415c9a926a97297c1607"
      }
     },
     "56cc6a9c7c68498193b7e3a52780ad3b": {
      "model_module": "jppype",
      "model_module_version": "0.2.0-a5",
      "model_name": "JView2DModel",
      "state": {
       "_domain": [
        -1,
        40,
        100,
        100
       ],
       "_layers_data": {
        "test": {
         "data": "data:image/jpg;base64,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",
         "infos": {
          "height": 100,
          "width": 100
         },
         "type": "image"
        }
       },
       "_layers_options": {
        "test": {
         "auto_scale_domain": true,
         "domain": {
          "bottomRight": {
           "x": 140,
           "y": 99
          },
          "topLeft": {
           "x": 40,
           "y": -1
          }
         },
         "foreground": false,
         "label": "",
         "opacity": 1,
         "visible": true,
         "z_index": 1
        }
       },
       "_target_transform": [
        0,
        0,
        1e-8
       ],
       "_transform": [
        0.5,
        0.5,
        0
       ],
       "layout": "IPY_MODEL_6f48745207fa458189759c99a0b0f06f",
       "linkedTransformGroup": "49d0fae914d44151accb3bbdab958625"
      }
     },
     "5ddcb305b39a4ce58a57baad4991a58f": {
      "model_module": "@jupyter-widgets/base",
      "model_module_version": "2.0.0",
      "model_name": "LayoutModel",
      "state": {
       "grid_gap": "1px",
       "grid_template_columns": "repeat(2, 1fr)",
       "grid_template_rows": "repeat(1, 650px)",
       "width": "100%"
      }
     },
     "63b68aa6d780469995215f32780e6d77": {
      "model_module": "@jupyter-widgets/base",
      "model_module_version": "2.0.0",
      "model_name": "LayoutModel",
      "state": {}
     },
     "6e6a973ba8d04a0591ccf6c3fef535ff": {
      "model_module": "@jupyter-widgets/base",
      "model_module_version": "2.0.0",
      "model_name": "LayoutModel",
      "state": {}
     },
     "6f48745207fa458189759c99a0b0f06f": {
      "model_module": "@jupyter-widgets/base",
      "model_module_version": "2.0.0",
      "model_name": "LayoutModel",
      "state": {}
     },
     "71b4cf68a12e4bf4ae02fed879d4f9af": {
      "model_module": "jppype",
      "model_module_version": "0.2.0-a5",
      "model_name": "JView2DModel",
      "state": {
       "_domain": [
        -1,
        40,
        100,
        100
       ],
       "_instance_id": 6,
       "_layers_data": {
        "Graph 01": {
         "data": {
          "adj": [
           [
            0,
            1
           ]
          ],
          "nodes_yx": [
           [
            10,
            15
           ],
           [
            80,
            80
           ]
          ]
         },
         "infos": {
          "nbNodes": 2,
          "nodesDomain": [
           100,
           100,
           -1,
           40
          ]
         },
         "type": "graph"
        },
        "test": {
         "data": "data:image/jpg;base64,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",
         "infos": {
          "height": 100,
          "width": 100
         },
         "type": "image"
        }
       },
       "_layers_options": {
        "Graph 01": {
         "auto_scale_domain": true,
         "domain": {
          "bottomRight": {
           "x": 140,
           "y": 99
          },
          "topLeft": {
           "x": 40,
           "y": -1
          }
         },
         "edge_labels_visible": false,
         "edge_map_visible": true,
         "edges_cmap": {
          "0": [
           "#8caaee",
           "#99d1db",
           "#a6d189",
           "#ef9f76",
           "#e78284",
           "#f4b8e4",
           "#f2d5cf",
           "#babbf1",
           "#85c1dc",
           "#81c8be",
           "#e5c890",
           "#ea999c",
           "#ca9ee6",
           "#eebebe"
          ]
         },
         "edges_opacity": 0.7,
         "foreground": true,
         "label": "",
         "node_labels_visible": false,
         "nodes_cmap": {
          "0": [
           "#8caaee",
           "#99d1db",
           "#a6d189",
           "#ef9f76",
           "#e78284",
           "#f4b8e4",
           "#f2d5cf",
           "#babbf1",
           "#85c1dc",
           "#81c8be",
           "#e5c890",
           "#ea999c",
           "#ca9ee6",
           "#eebebe"
          ]
         },
         "opacity": 1,
         "visible": true,
         "z_index": 2
        },
        "test": {
         "auto_scale_domain": true,
         "domain": {
          "bottomRight": {
           "x": 140,
           "y": 99
          },
          "topLeft": {
           "x": 40,
           "y": -1
          }
         },
         "foreground": false,
         "label": "",
         "opacity": 1,
         "visible": true,
         "z_index": 1
        }
       },
       "_target_transform": [
        0,
        0,
        1e-8
       ],
       "_transform": [
        0.5,
        0.5000000006313555,
        0
       ],
       "layout": "IPY_MODEL_d9c7e65a50a34cd9ae21437f56512280",
       "linkedTransformGroup": "26011cebeec047989db3a59042ac0bcb"
      }
     },
     "7363df2df593466f8b5138819bd3d459": {
      "model_module": "@jupyter-widgets/base",
      "model_module_version": "2.0.0",
      "model_name": "LayoutModel",
      "state": {
       "grid_gap": "1px",
       "grid_template_columns": "repeat(2, 1fr)",
       "grid_template_rows": "repeat(1, 650px)",
       "width": "100%"
      }
     },
     "74d47f30136e4a1096393d82b79920a3": {
      "model_module": "jppype",
      "model_module_version": "0.2.0-a5",
      "model_name": "JView2DModel",
      "state": {
       "_domain": [
        -1,
        0,
        101,
        140
       ],
       "_instance_id": 18,
       "_layers_data": {
        "Graph 01": {
         "data": {
          "adj": [
           [
            0,
            1
           ]
          ],
          "nodes_yx": [
           [
            10,
            15
           ],
           [
            80,
            80
           ]
          ]
         },
         "infos": {
          "nbNodes": 2,
          "nodesDomain": [
           100,
           100,
           -1,
           40
          ]
         },
         "type": "graph"
        },
        "test": {
         "data": "data:image/jpg;base64,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",
         "infos": {
          "height": 100,
          "width": 100
         },
         "type": "image"
        }
       },
       "_layers_options": {
        "Graph 01": {
         "auto_scale_domain": true,
         "domain": {
          "bottomRight": {
           "x": 140,
           "y": 99
          },
          "topLeft": {
           "x": 40,
           "y": -1
          }
         },
         "edge_labels_visible": false,
         "edge_map_visible": true,
         "edges_cmap": {
          "0": [
           "#8caaee",
           "#99d1db",
           "#a6d189",
           "#ef9f76",
           "#e78284",
           "#f4b8e4",
           "#f2d5cf",
           "#babbf1",
           "#85c1dc",
           "#81c8be",
           "#e5c890",
           "#ea999c",
           "#ca9ee6",
           "#eebebe"
          ]
         },
         "edges_opacity": 0.7,
         "foreground": true,
         "label": "",
         "node_labels_visible": false,
         "nodes_cmap": {
          "0": [
           "#8caaee",
           "#99d1db",
           "#a6d189",
           "#ef9f76",
           "#e78284",
           "#f4b8e4",
           "#f2d5cf",
           "#babbf1",
           "#85c1dc",
           "#81c8be",
           "#e5c890",
           "#ea999c",
           "#ca9ee6",
           "#eebebe"
          ]
         },
         "opacity": 1,
         "visible": true,
         "z_index": 2
        },
        "test": {
         "auto_scale_domain": true,
         "domain": {
          "bottomRight": {
           "x": 140,
           "y": 99
          },
          "topLeft": {
           "x": 40,
           "y": -1
          }
         },
         "foreground": false,
         "label": "",
         "opacity": 1,
         "visible": true,
         "z_index": 1
        }
       },
       "_target_transform": [
        0,
        0,
        1e-8
       ],
       "_transform": [
        0.5,
        0.49999999970578785,
        0
       ],
       "layout": "IPY_MODEL_95a14c4d405c432eae3f58d8fc1bac87",
       "linkedTransformGroup": "56e8f02268bc42d59eb9a2910d28f02d"
      }
     },
     "78c369465a6846b8a80b3fbb332d06df": {
      "model_module": "@jupyter-widgets/base",
      "model_module_version": "2.0.0",
      "model_name": "LayoutModel",
      "state": {}
     },
     "795296eeb7634579a9487f95da5e7c95": {
      "model_module": "@jupyter-widgets/base",
      "model_module_version": "2.0.0",
      "model_name": "LayoutModel",
      "state": {
       "grid_gap": "1px",
       "grid_template_columns": "repeat(2, 1fr)",
       "grid_template_rows": "repeat(1, 650px)",
       "width": "100%"
      }
     },
     "7985e246da42466989b34de728fbc051": {
      "model_module": "@jupyter-widgets/controls",
      "model_module_version": "2.0.0",
      "model_name": "GridBoxModel",
      "state": {
       "children": [
        "IPY_MODEL_a29ceeeb9c3b400a992c28dc566d7172",
        "IPY_MODEL_db58ba2693b1488fab0c13748e02256e"
       ],
       "layout": "IPY_MODEL_795296eeb7634579a9487f95da5e7c95"
      }
     },
     "7d55b9c0e54c471c8c8cffed5165a543": {
      "model_module": "jppype",
      "model_module_version": "0.2.0-a5",
      "model_name": "JView2DModel",
      "state": {
       "_domain": [
        0,
        0,
        100,
        100
       ],
       "_instance_id": 1,
       "_layers_data": {
        "test": {
         "data": "data:image/jpg;base64,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",
         "infos": {
          "height": 100,
          "width": 100
         },
         "type": "image"
        }
       },
       "_layers_options": {
        "test": {
         "auto_scale_domain": true,
         "domain": {
          "bottomRight": {
           "x": 100,
           "y": 100
          },
          "topLeft": {
           "x": 0,
           "y": 0
          }
         },
         "foreground": false,
         "label": "",
         "opacity": 1,
         "visible": true,
         "z_index": 1
        }
       },
       "_left_ruler": false,
       "_target_transform": [
        0,
        0,
        1e-8
       ],
       "_transform": [
        0.5,
        0.5,
        0
       ],
       "layout": "IPY_MODEL_de76bef58afb4a64b22fdea7863c9a7f",
       "linkedTransformGroup": "49d0fae914d44151accb3bbdab958625"
      }
     },
     "7da875be55094b11a8127362d4d22fd2": {
      "model_module": "@jupyter-widgets/base",
      "model_module_version": "2.0.0",
      "model_name": "LayoutModel",
      "state": {}
     },
     "81c00a89aeca4218a1555fdf3e16b805": {
      "model_module": "@jupyter-widgets/base",
      "model_module_version": "2.0.0",
      "model_name": "LayoutModel",
      "state": {}
     },
     "81e70b372ea541f59cd3602a5f1dc2e3": {
      "model_module": "@jupyter-widgets/base",
      "model_module_version": "2.0.0",
      "model_name": "LayoutModel",
      "state": {
       "grid_gap": "1px",
       "grid_template_columns": "repeat(2, 1fr)",
       "grid_template_rows": "repeat(1, 650px)",
       "width": "100%"
      }
     },
     "87c6507218634b1ba87561ec88caf640": {
      "model_module": "jppype",
      "model_module_version": "0.2.0-a5",
      "model_name": "JView2DModel",
      "state": {
       "_domain": [
        0,
        0,
        100,
        100
       ],
       "_instance_id": 11,
       "_layers_data": {
        "test": {
         "data": "data:image/jpg;base64,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",
         "infos": {
          "height": 100,
          "width": 100
         },
         "type": "image"
        }
       },
       "_layers_options": {
        "test": {
         "auto_scale_domain": true,
         "domain": {
          "bottomRight": {
           "x": 100,
           "y": 100
          },
          "topLeft": {
           "x": 0,
           "y": 0
          }
         },
         "foreground": false,
         "label": "",
         "opacity": 1,
         "visible": true,
         "z_index": 1
        }
       },
       "_left_ruler": false,
       "_target_transform": [
        0,
        0,
        1e-8
       ],
       "_transform": [
        0,
        0,
        1e-8
       ],
       "layout": "IPY_MODEL_9795613ca2a741259cbb51369a177d86",
       "linkedTransformGroup": "cff90872f4cc413e81300f994661081a"
      }
     },
     "89d4487d97f8482e88d660bf7172d276": {
      "model_module": "@jupyter-widgets/controls",
      "model_module_version": "2.0.0",
      "model_name": "GridBoxModel",
      "state": {
       "children": [
        "IPY_MODEL_a3358efdcf714922a2e5e68a7cc7adaa",
        "IPY_MODEL_87c6507218634b1ba87561ec88caf640"
       ],
       "layout": "IPY_MODEL_99212c12b6c544b1874f3ede36e97335"
      }
     },
     "8cbbce3973d049da89ae20ed54b95e3a": {
      "model_module": "@jupyter-widgets/base",
      "model_module_version": "2.0.0",
      "model_name": "LayoutModel",
      "state": {}
     },
     "8f5944f24e3748b587f134d9811bb3e4": {
      "model_module": "@jupyter-widgets/base",
      "model_module_version": "2.0.0",
      "model_name": "LayoutModel",
      "state": {
       "grid_gap": "1px",
       "grid_template_columns": "repeat(2, 1fr)",
       "grid_template_rows": "repeat(1, 650px)",
       "width": "100%"
      }
     },
     "95a14c4d405c432eae3f58d8fc1bac87": {
      "model_module": "@jupyter-widgets/base",
      "model_module_version": "2.0.0",
      "model_name": "LayoutModel",
      "state": {}
     },
     "9795613ca2a741259cbb51369a177d86": {
      "model_module": "@jupyter-widgets/base",
      "model_module_version": "2.0.0",
      "model_name": "LayoutModel",
      "state": {}
     },
     "98d4f09bda2a4b7f915cd5ec40e98598": {
      "model_module": "@jupyter-widgets/base",
      "model_module_version": "2.0.0",
      "model_name": "LayoutModel",
      "state": {}
     },
     "99212c12b6c544b1874f3ede36e97335": {
      "model_module": "@jupyter-widgets/base",
      "model_module_version": "2.0.0",
      "model_name": "LayoutModel",
      "state": {
       "grid_gap": "1px",
       "grid_template_columns": "repeat(2, 1fr)",
       "grid_template_rows": "repeat(1, 650px)",
       "width": "100%"
      }
     },
     "99df6b99af3a4767b976a8c6ac6088ba": {
      "model_module": "@jupyter-widgets/controls",
      "model_module_version": "2.0.0",
      "model_name": "GridBoxModel",
      "state": {
       "children": [
        "IPY_MODEL_511437c98a954f1d9be5a73c849f82e5",
        "IPY_MODEL_bd3eee88657d4ab398ac86a28a3f3cb3"
       ],
       "layout": "IPY_MODEL_81e70b372ea541f59cd3602a5f1dc2e3"
      }
     },
     "9a8c61e43b66466f86e0e847bc23d3b9": {
      "model_module": "jppype",
      "model_module_version": "0.2.0-a5",
      "model_name": "JView2DModel",
      "state": {
       "_domain": [
        0,
        0,
        100,
        100
       ],
       "_instance_id": 17,
       "_layers_data": {
        "Graph 01": {
         "data": {
          "adj": [
           [
            0,
            1
           ]
          ],
          "nodes_yx": [
           [
            10,
            15
           ],
           [
            80,
            80
           ]
          ]
         },
         "infos": {
          "nbNodes": 2,
          "nodesDomain": [
           100,
           100,
           0,
           0
          ]
         },
         "type": "graph"
        },
        "test": {
         "data": "data:image/jpg;base64,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",
         "infos": {
          "height": 100,
          "width": 100
         },
         "type": "image"
        }
       },
       "_layers_options": {
        "Graph 01": {
         "auto_scale_domain": true,
         "domain": {
          "bottomRight": {
           "x": 100,
           "y": 100
          },
          "topLeft": {
           "x": 0,
           "y": 0
          }
         },
         "edge_labels_visible": false,
         "edge_map_visible": true,
         "edges_cmap": {
          "0": [
           "#8caaee",
           "#99d1db",
           "#a6d189",
           "#ef9f76",
           "#e78284",
           "#f4b8e4",
           "#f2d5cf",
           "#babbf1",
           "#85c1dc",
           "#81c8be",
           "#e5c890",
           "#ea999c",
           "#ca9ee6",
           "#eebebe"
          ]
         },
         "edges_opacity": 0.7,
         "foreground": true,
         "label": "",
         "node_labels_visible": false,
         "nodes_cmap": {
          "0": [
           "#8caaee",
           "#99d1db",
           "#a6d189",
           "#ef9f76",
           "#e78284",
           "#f4b8e4",
           "#f2d5cf",
           "#babbf1",
           "#85c1dc",
           "#81c8be",
           "#e5c890",
           "#ea999c",
           "#ca9ee6",
           "#eebebe"
          ]
         },
         "opacity": 1,
         "visible": true,
         "z_index": 2
        },
        "test": {
         "auto_scale_domain": true,
         "domain": {
          "bottomRight": {
           "x": 100,
           "y": 100
          },
          "topLeft": {
           "x": 0,
           "y": 0
          }
         },
         "foreground": false,
         "label": "",
         "opacity": 1,
         "visible": true,
         "z_index": 1
        }
       },
       "_left_ruler": false,
       "_target_transform": [
        0,
        0,
        1e-8
       ],
       "_transform": [
        0.5,
        0.5,
        0
       ],
       "layout": "IPY_MODEL_63b68aa6d780469995215f32780e6d77",
       "linkedTransformGroup": "1e9d6b48492f4accb08c2dd59d5af7a1"
      }
     },
     "a0699376d9644b289230f1419e8545f6": {
      "model_module": "jppype",
      "model_module_version": "0.2.0-a5",
      "model_name": "JView2DModel",
      "state": {
       "_domain": [
        -1,
        0,
        101,
        140
       ],
       "_instance_id": 23,
       "_layers_data": {
        "Graph 01": {
         "data": {
          "adj": [
           [
            0,
            1
           ]
          ],
          "nodes_yx": [
           [
            10,
            15
           ],
           [
            80,
            80
           ]
          ]
         },
         "infos": {
          "nbNodes": 2,
          "nodesDomain": [
           100,
           100,
           0,
           0
          ]
         },
         "type": "graph"
        },
        "test": {
         "data": "data:image/jpg;base64,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",
         "infos": {
          "height": 100,
          "width": 100
         },
         "type": "image"
        }
       },
       "_layers_options": {
        "Graph 01": {
         "auto_scale_domain": true,
         "domain": {
          "bottomRight": {
           "x": 100,
           "y": 100
          },
          "topLeft": {
           "x": 0,
           "y": 0
          }
         },
         "edge_labels_visible": false,
         "edge_map_visible": true,
         "edges_cmap": {
          "0": [
           "#8caaee",
           "#99d1db",
           "#a6d189",
           "#ef9f76",
           "#e78284",
           "#f4b8e4",
           "#f2d5cf",
           "#babbf1",
           "#85c1dc",
           "#81c8be",
           "#e5c890",
           "#ea999c",
           "#ca9ee6",
           "#eebebe"
          ]
         },
         "edges_opacity": 0.7,
         "foreground": true,
         "label": "",
         "node_labels_visible": false,
         "nodes_cmap": {
          "0": [
           "#8caaee",
           "#99d1db",
           "#a6d189",
           "#ef9f76",
           "#e78284",
           "#f4b8e4",
           "#f2d5cf",
           "#babbf1",
           "#85c1dc",
           "#81c8be",
           "#e5c890",
           "#ea999c",
           "#ca9ee6",
           "#eebebe"
          ]
         },
         "opacity": 1,
         "visible": true,
         "z_index": 2
        },
        "test": {
         "auto_scale_domain": true,
         "domain": {
          "bottomRight": {
           "x": 100,
           "y": 100
          },
          "topLeft": {
           "x": 0,
           "y": 0
          }
         },
         "foreground": false,
         "label": "",
         "opacity": 1,
         "visible": true,
         "z_index": 1
        }
       },
       "_left_ruler": false,
       "_target_transform": [
        0,
        0,
        1e-8
       ],
       "_transform": [
        0.5,
        0.5,
        0
       ],
       "layout": "IPY_MODEL_3f3a15ff7cff4fdcb5a7bafc560f4e6c",
       "linkedTransformGroup": "915f213e31564e9c87c5e020f0ca20ab"
      }
     },
     "a29ceeeb9c3b400a992c28dc566d7172": {
      "model_module": "jppype",
      "model_module_version": "0.2.0-a5",
      "model_name": "JView2DModel",
      "state": {
       "_domain": [
        -1,
        40,
        100,
        200
       ],
       "_instance_id": 12,
       "_layers_data": {
        "Graph 01": {
         "data": {
          "adj": [
           [
            0,
            1
           ]
          ],
          "nodes_yx": [
           [
            10,
            15
           ],
           [
            80,
            80
           ]
          ]
         },
         "infos": {
          "nbNodes": 2,
          "nodesDomain": [
           100,
           200,
           -1,
           40
          ]
         },
         "type": "graph"
        },
        "test": {
         "data": "data:image/jpg;base64,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",
         "infos": {
          "height": 100,
          "width": 100
         },
         "type": "image"
        }
       },
       "_layers_options": {
        "Graph 01": {
         "auto_scale_domain": true,
         "domain": {
          "bottomRight": {
           "x": 240,
           "y": 99
          },
          "topLeft": {
           "x": 40,
           "y": -1
          }
         },
         "edge_labels_visible": false,
         "edge_map_visible": true,
         "edges_cmap": {
          "0": [
           "#8caaee",
           "#99d1db",
           "#a6d189",
           "#ef9f76",
           "#e78284",
           "#f4b8e4",
           "#f2d5cf",
           "#babbf1",
           "#85c1dc",
           "#81c8be",
           "#e5c890",
           "#ea999c",
           "#ca9ee6",
           "#eebebe"
          ]
         },
         "edges_opacity": 0.7,
         "foreground": true,
         "label": "",
         "node_labels_visible": false,
         "nodes_cmap": {
          "0": [
           "#8caaee",
           "#99d1db",
           "#a6d189",
           "#ef9f76",
           "#e78284",
           "#f4b8e4",
           "#f2d5cf",
           "#babbf1",
           "#85c1dc",
           "#81c8be",
           "#e5c890",
           "#ea999c",
           "#ca9ee6",
           "#eebebe"
          ]
         },
         "opacity": 1,
         "visible": true,
         "z_index": 2
        },
        "test": {
         "auto_scale_domain": true,
         "domain": {
          "bottomRight": {
           "x": 240,
           "y": 99
          },
          "topLeft": {
           "x": 40,
           "y": -1
          }
         },
         "foreground": false,
         "label": "",
         "opacity": 1,
         "visible": true,
         "z_index": 1
        }
       },
       "_target_transform": [
        0,
        0,
        1e-8
       ],
       "_transform": [
        0,
        0,
        1e-8
       ],
       "layout": "IPY_MODEL_beb7821a276d4bb284b8283fdf953a42",
       "linkedTransformGroup": "e4acb96c843e4197a39ea6f1dc98cce5"
      }
     },
     "a3358efdcf714922a2e5e68a7cc7adaa": {
      "model_module": "jppype",
      "model_module_version": "0.2.0-a5",
      "model_name": "JView2DModel",
      "state": {
       "_domain": [
        -1,
        40,
        200,
        200
       ],
       "_instance_id": 10,
       "_layers_data": {
        "Graph 01": {
         "data": {
          "adj": [
           [
            0,
            1
           ]
          ],
          "nodes_yx": [
           [
            10,
            15
           ],
           [
            80,
            80
           ]
          ]
         },
         "infos": {
          "nbNodes": 2,
          "nodesDomain": [
           200,
           200,
           -1,
           40
          ]
         },
         "type": "graph"
        },
        "test": {
         "data": "data:image/jpg;base64,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",
         "infos": {
          "height": 100,
          "width": 100
         },
         "type": "image"
        }
       },
       "_layers_options": {
        "Graph 01": {
         "auto_scale_domain": true,
         "domain": {
          "bottomRight": {
           "x": 240,
           "y": 199
          },
          "topLeft": {
           "x": 40,
           "y": -1
          }
         },
         "edge_labels_visible": false,
         "edge_map_visible": true,
         "edges_cmap": {
          "0": [
           "#8caaee",
           "#99d1db",
           "#a6d189",
           "#ef9f76",
           "#e78284",
           "#f4b8e4",
           "#f2d5cf",
           "#babbf1",
           "#85c1dc",
           "#81c8be",
           "#e5c890",
           "#ea999c",
           "#ca9ee6",
           "#eebebe"
          ]
         },
         "edges_opacity": 0.7,
         "foreground": true,
         "label": "",
         "node_labels_visible": false,
         "nodes_cmap": {
          "0": [
           "#8caaee",
           "#99d1db",
           "#a6d189",
           "#ef9f76",
           "#e78284",
           "#f4b8e4",
           "#f2d5cf",
           "#babbf1",
           "#85c1dc",
           "#81c8be",
           "#e5c890",
           "#ea999c",
           "#ca9ee6",
           "#eebebe"
          ]
         },
         "opacity": 1,
         "visible": true,
         "z_index": 2
        },
        "test": {
         "auto_scale_domain": true,
         "domain": {
          "bottomRight": {
           "x": 240,
           "y": 199
          },
          "topLeft": {
           "x": 40,
           "y": -1
          }
         },
         "foreground": false,
         "label": "",
         "opacity": 1,
         "visible": true,
         "z_index": 1
        }
       },
       "_target_transform": [
        0,
        0,
        1e-8
       ],
       "_transform": [
        0,
        0,
        1e-8
       ],
       "layout": "IPY_MODEL_98d4f09bda2a4b7f915cd5ec40e98598",
       "linkedTransformGroup": "cff90872f4cc413e81300f994661081a"
      }
     },
     "a65c5aac17f441df98556ac7688b0e34": {
      "model_module": "jppype",
      "model_module_version": "0.2.0-a5",
      "model_name": "JView2DModel",
      "state": {
       "_domain": [
        0,
        0,
        100,
        100
       ],
       "_instance_id": 3,
       "_layers_data": {
        "test": {
         "data": "data:image/jpg;base64,/9j/4AAQSkZJRgABAQAAAQABAAD/2wBDAAIBAQEBAQIBAQECAgICAgQDAgICAgUEBAMEBgUGBgYFBgYGBwkIBgcJBwYGCAsICQoKCgoKBggLDAsKDAkKCgr/2wBDAQICAgICAgUDAwUKBwYHCgoKCgoKCgoKCgoKCgoKCgoKCgoKCgoKCgoKCgoKCgoKCgoKCgoKCgoKCgoKCgoKCgr/wAARCABkAGQDASIAAhEBAxEB/8QAHwAAAQUBAQEBAQEAAAAAAAAAAAECAwQFBgcICQoL/8QAtRAAAgEDAwIEAwUFBAQAAAF9AQIDAAQRBRIhMUEGE1FhByJxFDKBkaEII0KxwRVS0fAkM2JyggkKFhcYGRolJicoKSo0NTY3ODk6Q0RFRkdISUpTVFVWV1hZWmNkZWZnaGlqc3R1dnd4eXqDhIWGh4iJipKTlJWWl5iZmqKjpKWmp6ipqrKztLW2t7i5usLDxMXGx8jJytLT1NXW19jZ2uHi4+Tl5ufo6erx8vP09fb3+Pn6/8QAHwEAAwEBAQEBAQEBAQAAAAAAAAECAwQFBgcICQoL/8QAtREAAgECBAQDBAcFBAQAAQJ3AAECAxEEBSExBhJBUQdhcRMiMoEIFEKRobHBCSMzUvAVYnLRChYkNOEl8RcYGRomJygpKjU2Nzg5OkNERUZHSElKU1RVVldYWVpjZGVmZ2hpanN0dXZ3eHl6goOEhYaHiImKkpOUlZaXmJmaoqOkpaanqKmqsrO0tba3uLm6wsPExcbHyMnK0tPU1dbX2Nna4uPk5ebn6Onq8vP09fb3+Pn6/9oADAMBAAIRAxEAPwD9/K/mh/4OBv8AlLr8W/8AuA/+mDTqP+Igb/grr/0dt/5YWgf/ACBX6X/8E/P+Cfn7In/BUz9kTwl+3f8At3/CT/hOvit46+3/APCVeKv7ev8ATPt32K/udOtv9G06eC2i2Wtpbx/u4l3eXubczMx/T8ty2vwJXePx7UoSXs0qd27tqV3zKKtaL63vbQ/ZcoyjE+GeJeaZo1OnNeySpXcuZtSTakoK1oPre9tO3jX/AAaR/wDNwP8A3Kn/ALmK+yv+Dgb/AJRFfFv/ALgP/p/06vjX/grd/wAaKv8AhX//AA6t/wCLW/8AC0v7V/4Tv/mOf2n/AGb9j+xf8hf7V5Pl/wBoXf8Aqtm/zfn3bU2+Nf8ABPz/AIKB/td/8FTP2u/CX7CH7d/xb/4Tr4U+Ovt//CVeFf7BsNM+3fYrC51G2/0nToILmLZdWlvJ+7lXd5e1tysykrZbXzXMVxLSaVBNVOV357UrKSsk43fI7e9ba7XQxGUYnO81XGFBpYaLjV5ZXVTlo2UlZJxu/Zvl9+zurta2/NCv7KK+Nf8AiH5/4JFf9Gk/+X7r/wD8n1+Nf/EQN/wV1/6O2/8ALC0D/wCQK1zP/jYHJ/Z3uexvze00vz2tbl5/5He9um/TfOf+Npcn9le59Xvze192/tLcvLyc97cjve3S19bH/BwN/wApdfi3/wBwH/0wadX2V/waR/8ANwP/AHKn/uYr2X/gn5/wT8/ZE/4KmfsieEv27/27/hJ/wnXxW8dfb/8AhKvFX9vX+mfbvsV/c6dbf6Np08FtFstbS3j/AHcS7vL3NuZmY+Nf8Fbv+NFX/Cv/APh1b/xa3/haX9q/8J3/AMxz+0/7N+x/Yv8AkL/avJ8v+0Lv/VbN/m/Pu2pt1rZlQzXLlw1STVdJU+Z25L0rOTum5WfI7e7fa6XTfEZvhs7ypcH0E1iYqNLmlZU+ajZyd03Kz9m+X3Lu6ulrb7K/4OBv+URXxb/7gP8A6f8ATq/mhr9L/wDgn5/wUD/a7/4Kmftd+Ev2EP27/i3/AMJ18KfHX2//AISrwr/YNhpn277FYXOo23+k6dBBcxbLq0t5P3cq7vL2tuVmU/pf/wAQ/P8AwSK/6NJ/8v3X/wD5Poy3MqHAlB4DHpynJ+0Tp2as0o2fM4u94vpa1tQyjN8N4Z4Z5Xmic6k37VOlZx5WlFJuTg73g+lrW17fZVfzQ/8ABwN/yl1+Lf8A3Af/AEwadR/xEDf8Fdf+jtv/ACwtA/8AkCv0v/4J+f8ABPz9kT/gqZ+yJ4S/bv8A27/hJ/wnXxW8dfb/APhKvFX9vX+mfbvsV/c6dbf6Np08FtFstbS3j/dxLu8vc25mZjy5bltfgSu8fj2pQkvZpU7t3bUrvmUVa0X1ve2hw5RlGJ8M8S80zRqdOa9klSu5czakm1JQVrQfW97advwGor+l7/iH5/4JFf8ARpP/AJfuv/8AyfRXtf8AERsk/wCfdT7o/wDyZ9F/xFrhz/n1V/8AAYf/ACw+Nf8AiEj/AOsgP/mKf/vrR/w9u/4cVf8AGq3/AIZ+/wCFpf8ACrf+Z7/4Sv8AsP8AtP8AtL/ib/8AHl9luvJ8v+0PJ/177/K3/Lu2L9lf8RA3/BIr/o7b/wAsLX//AJAr80P+Cgf/AAT8/a7/AOCpn7Xfi39u/wDYQ+En/CdfCnx19g/4RXxV/b1hpn277FYW2nXP+jajPBcxbLq0uI/3kS7vL3LuVlY+LltbMc1rulxKmqCV4+0Xslz3SVpJQu+Vy0vtd200+dyjEZrneJdDjBOOGS5o+1j7GPtE0laSVO75XP3bu6u7aXXsv/K0x/1Qr/hRf/cz/wBt/wBtf+AH2byf7J/6a+Z9o/g2fOf8Okf+HFX/ABtS/wCGgf8AhaX/AAq3/mRP+EU/sP8AtP8AtL/iUf8AH79quvJ8v+0PO/1D7/K2fLu3qf8ABJH/AI0Vf8LA/wCHqX/Frf8AhaX9lf8ACCf8xz+0/wCzftn23/kEfavJ8v8AtC0/1uzf5vybtr7fZf8AgoH/AMFA/wBkT/gqZ+yJ4t/YQ/YQ+Lf/AAnXxW8dfYP+EV8K/wBg3+mfbvsV/bajc/6TqMEFtFstbS4k/eSru8vau5mVSVq2Y0MxWCwSf9nXSbS5ockre1/e2btdzu+f3ddVbQxGIzXDZqsuy5N5S3GLcY81P2cre2/fWbSTc+aXP7muqtp41/xFuf8AWP7/AMyt/wDeqj/iEj/6yA/+Yp/++tfGv/EPz/wV1/6NJ/8AL90D/wCT6/ZT/iIG/wCCRX/R23/lha//APIFa5n/AMJPJ/qv73Nf2ns/3u1uS9+fl3lba+u9tN85/wCELk/1M97nv7X2X7/a3s+a/tOXedtubXe2nxr/AMPbv+HFX/Gq3/hn7/haX/Crf+Z7/wCEr/sP+0/7S/4m/wDx5fZbryfL/tDyf9e+/wArf8u7Yp/ytMf9UK/4UX/3M/8Abf8AbX/gB9m8n+yf+mvmfaP4Nnz+Nf8ABQP/AIJ+ftd/8FTP2u/Fv7d/7CHwk/4Tr4U+OvsH/CK+Kv7esNM+3fYrC2065/0bUZ4LmLZdWlxH+8iXd5e5dysrH2X/AIJI/wDGir/hYH/D1L/i1v8AwtL+yv8AhBP+Y5/af9m/bPtv/II+1eT5f9oWn+t2b/N+TdtfbrWo5dQy5Y3BNf2jZNpPmnzyt7X91dq9nO65Pd10VtN8Rh8qw2VLMcuaebNRk1GXNU9pK3tv3N2k0nPmjye5roraH/DpH/hxV/xtS/4aB/4Wl/wq3/mRP+EU/sP+0/7S/wCJR/x+/arryfL/ALQ87/UPv8rZ8u7ep/xFuf8AWP7/AMyt/wDeqvZf+Cgf/BQP9kT/AIKmfsieLf2EP2EPi3/wnXxW8dfYP+EV8K/2Df6Z9u+xX9tqNz/pOowQW0Wy1tLiT95Ku7y9q7mZVP5of8Q/P/BXX/o0n/y/dA/+T6Mto5dmtB1eJWlXTtH2j9k+SyatFOF1zOWtt7q+mhlGHyrO8M6/GDUcSnyx9rL2MvZpJq0U6d1zOfvWd3dX0svsr/iEj/6yA/8AmKf/AL60f8Pbv+HFX/Gq3/hn7/haX/Crf+Z7/wCEr/sP+0/7S/4m/wDx5fZbryfL/tDyf9e+/wArf8u7Yv2V/wARA3/BIr/o7b/ywtf/APkCvzQ/4KB/8E/P2u/+Cpn7Xfi39u/9hD4Sf8J18KfHX2D/AIRXxV/b1hpn277FYW2nXP8Ao2ozwXMWy6tLiP8AeRLu8vcu5WVjy5bWzHNa7pcSpqglePtF7Jc90laSULvlctL7XdtNOHKMRmud4l0OME44ZLmj7WPsY+0TSVpJU7vlc/du7q7tpdey/wDEW5/1j+/8yt/96qK+Nf8AiH5/4K6/9Gk/+X7oH/yfRXtf2N4e/wA1P/wc/wD5M+i/1f8ACr+el/4Pf/yw+Na/pe/4N+f+URXwk/7j3/p/1Gvsqv5of+Dgb/lLr8W/+4D/AOmDTq8r+0/+Igf8J3J7Hk/ec1+e9vdta0P573v02108T+2P+Ipf8JXJ9X5P3vNf2l+X3OXltC1+e979LW1uvsr/AIO3P+bfv+5r/wDcPXxr/wAG/P8Ayl1+En/ce/8ATBqNfZX/AAaR/wDNwP8A3Kn/ALmK+yv+Dgb/AJRFfFv/ALgP/p/06j+0/wCyf+MX5Oa/7v2l7fxdb8ln8PPtza23V9D+2P7C/wCMM5Ofm/de1vb+Przezs/h9ptz+9bdX0+yq/jXor+yij/k3X/T/wBv/wBucvJ/4He/P5Wt1vof8mm/6ifrP/cPl9n/AODL39p5Wt1vp8a/8G/P/KIr4Sf9x7/0/wCo18a/8Hbn/Nv3/c1/+4evjX/g4G/5S6/Fv/uA/wDpg06vsr/g0j/5uB/7lT/3MUf2Z/ZP/GUc/Nf957O1v4ulue7+Hn35dbbK+h/Y/wDYX/GZ8/PzfvfZWt/H05faXfw+035Petsr6fGv/Bvz/wApdfhJ/wBx7/0wajX9L1fGv/BwN/yiK+Lf/cB/9P8Ap1fzQ0f2Z/xED/hR5/Y8n7vltz3t7173h/Pa1um+uh/Y/wDxFL/hV5/q/J+65be0vy+/zc14Wvz2tbpe+tkV/S9/wb8/8oivhJ/3Hv8A0/6jX2VX80P/AAcDf8pdfi3/ANwH/wBMGnUf2n/xED/hO5PY8n7zmvz3t7trWh/Pe9+m2uh/bH/EUv8AhK5Pq/J+95r+0vy+5y8toWvz3vfpa2t1/S9RX8a9FH/EM/8AqL/8p/8A24f8Qd/6jv8Ayl/90Psr/iIG/wCCuv8A0dt/5YWgf/IFfpf/AME/P+Cfn7In/BUz9kTwl+3f+3f8JP8AhOvit46+3/8ACVeKv7ev9M+3fYr+5062/wBG06eC2i2Wtpbx/u4l3eXubczMx8a/4hI/+sgP/mKf/vrR/wAPbv8AhxV/xqt/4Z+/4Wl/wq3/AJnv/hK/7D/tP+0v+Jv/AMeX2W68ny/7Q8n/AF77/K3/AC7ti65lWy7NaCpcNJKuneXs17J8lmneTULrmcdL72dtNN83xGVZ3hlQ4PSjiU+aXso+xl7NJp3k1TuuZw927u7O2l0f8Fbv+NFX/Cv/APh1b/xa3/haX9q/8J3/AMxz+0/7N+x/Yv8AkL/avJ8v+0Lv/VbN/m/Pu2pt8a/4J+f8FA/2u/8AgqZ+134S/YQ/bv8Ai3/wnXwp8dfb/wDhKvCv9g2GmfbvsVhc6jbf6Tp0EFzFsurS3k/dyru8va25WZT7L/ytMf8AVCv+FF/9zP8A23/bX/gB9m8n+yf+mvmfaP4Nnzn/AA6R/wCHFX/G1L/hoH/haX/Crf8AmRP+EU/sP+0/7S/4lH/H79quvJ8v+0PO/wBQ+/ytny7t6lGtl1DLngsal/aNmk2uafPK/sv3tmr2cLPn93TVW0MPiMqw2VPLsxSebNSinKPNU9pK/sf31mk0nDllz+5pqrafZX/EPz/wSK/6NJ/8v3X/AP5Pr8a/+Igb/grr/wBHbf8AlhaB/wDIFfZX/EW5/wBY/v8AzK3/AN6qP+ISP/rID/5in/761lln/CTz/wCtHvc1vZ+0/e7X57W5+XeN9r6b20wyf/hC5/8AXP3ue3sva/v9r+05be05d4X25tN7aey/8E/P+Cfn7In/AAVM/ZE8Jft3/t3/AAk/4Tr4reOvt/8AwlXir+3r/TPt32K/udOtv9G06eC2i2Wtpbx/u4l3eXubczMx8a/4K3f8aKv+Ff8A/Dq3/i1v/C0v7V/4Tv8A5jn9p/2b9j+xf8hf7V5Pl/2hd/6rZv8AN+fdtTaf8Pbv+HFX/Gq3/hn7/haX/Crf+Z7/AOEr/sP+0/7S/wCJv/x5fZbryfL/ALQ8n/Xvv8rf8u7Yp/ytMf8AVCv+FF/9zP8A23/bX/gB9m8n+yf+mvmfaP4Nnz5UaOY0MxeNxrf9nXbSb5ockr+y/dXbtdwsuT3dNFbTDD4fNcNmrzHMW3lLcpJSlzU/Zyv7H9zdtJNw5Y8nuaaK2njX/BPz/goH+13/AMFTP2u/CX7CH7d/xb/4Tr4U+Ovt/wDwlXhX+wbDTPt32KwudRtv9J06CC5i2XVpbyfu5V3eXtbcrMp/S/8A4h+f+CRX/RpP/l+6/wD/ACfXxr/w6R/4cVf8bUv+Ggf+Fpf8Kt/5kT/hFP7D/tP+0v8AiUf8fv2q68ny/wC0PO/1D7/K2fLu3qf8Rbn/AFj+/wDMrf8A3qozKjmOa11V4abVBK0vZv2S57tu8W4XfK4622sr6aGb4fNc7xKr8HtxwyXLL2UvYx9om27xbp3fK4e9Z3VlfSy+Nf8AiIG/4K6/9Hbf+WFoH/yBX6X/APBPz/gn5+yJ/wAFTP2RPCX7d/7d/wAJP+E6+K3jr7f/AMJV4q/t6/0z7d9iv7nTrb/RtOngtotlraW8f7uJd3l7m3MzMfGv+ISP/rID/wCYp/8AvrR/w9u/4cVf8arf+Gfv+Fpf8Kt/5nv/AISv+w/7T/tL/ib/APHl9luvJ8v+0PJ/177/ACt/y7ti9WZVsuzWgqXDSSrp3l7NeyfJZp3k1C65nHS+9nbTTuzfEZVneGVDg9KOJT5peyj7GXs0mneTVO65nD3bu7s7aXX2V/xD8/8ABIr/AKNJ/wDL91//AOT6K+Nf+Itz/rH9/wCZW/8AvVRXi/2N4hfzVP8Awcv/AJM+d/1f8Vf56v8A4PX/AMsPsr/iIG/4JFf9Hbf+WFr/AP8AIFfmh/wUD/4J+ftd/wDBUz9rvxb+3f8AsIfCT/hOvhT46+wf8Ir4q/t6w0z7d9isLbTrn/RtRnguYtl1aXEf7yJd3l7l3KysfzQr+l7/AIN+f+URXwk/7j3/AKf9Rr2syy2hwJQWPwDcpyfs2qlmrNOV1yqLveK62tfQ+izfKMN4Z4ZZplbc6k37JqrZx5WnJtKKg73gutrX07fGv/BJH/jRV/wsD/h6l/xa3/haX9lf8IJ/zHP7T/s37Z9t/wCQR9q8ny/7QtP9bs3+b8m7a+32X/goH/wUD/ZE/wCCpn7Ini39hD9hD4t/8J18VvHX2D/hFfCv9g3+mfbvsV/bajc/6TqMEFtFstbS4k/eSru8vau5mVT41/wduf8ANv3/AHNf/uHr41/4N+f+Uuvwk/7j3/pg1GijltDNcufEtVtV0nU5VbkvSuoqzTlZ8iv7197NdDD5Rhs7yp8YV21iYqVXljZU+ajdRVmnKz9mub37u7s1pY/4h+f+Cuv/AEaT/wCX7oH/AMn1+yn/ABEDf8Eiv+jtv/LC1/8A+QK+yq/jXrLLP+Ngc/8AaPuexty+z0vz3vfm5/5Fa1uu/TDJ/wDjaXP/AGr7n1e3L7L3b+0vzc3Pz3tyK1rdb30t+l//AAUD/wCCfn7Xf/BUz9rvxb+3f+wh8JP+E6+FPjr7B/wivir+3rDTPt32KwttOuf9G1GeC5i2XVpcR/vIl3eXuXcrKx9l/wCCSP8Axoq/4WB/w9S/4tb/AMLS/sr/AIQT/mOf2n/Zv2z7b/yCPtXk+X/aFp/rdm/zfk3bX2/ZX/Bvz/yiK+En/ce/9P8AqNfGv/B25/zb9/3Nf/uHrKjmVfNcxfDVVJUE3T5lfntSu4u7bjd8iv7tt7JdMMPm+JzvNXwfXSWGi5UuaN1U5aN3F3bcbv2a5vcs7uyWlvZf+Cgf/BQP9kT/AIKmfsieLf2EP2EPi3/wnXxW8dfYP+EV8K/2Df6Z9u+xX9tqNz/pOowQW0Wy1tLiT95Ku7y9q7mZVP5of8Q/P/BXX/o0n/y/dA/+T6P+Dfn/AJS6/CT/ALj3/pg1Gv6XqMyzKvwJXWAwCUoSXtG6l27tuNlyuKtaK6XvfUM3zfE+GeJWV5WlOnNe1bq3cuZtxaTi4K1oLpe99e3xr/xEDf8ABIr/AKO2/wDLC1//AOQK/ND/AIKB/wDBPz9rv/gqZ+134t/bv/YQ+En/AAnXwp8dfYP+EV8Vf29YaZ9u+xWFtp1z/o2ozwXMWy6tLiP95Eu7y9y7lZWP5oV/S9/wb8/8oivhJ/3Hv/T/AKjXVmWW0OBKCx+AblOT9m1Us1ZpyuuVRd7xXW1r6Hdm+UYbwzwyzTK251Jv2TVWzjytOTaUVB3vBdbWvp2/Gv8A4h+f+Cuv/RpP/l+6B/8AJ9Ff0vUV4v8AxEbO/wDn3T+6X/yZ87/xFriP/n1S/wDAZ/8AywK/mh/4OBv+Uuvxb/7gP/pg06j/AIiBv+Cuv/R23/lhaB/8gV+l/wDwT8/4J+fsif8ABUz9kTwl+3f+3f8ACT/hOvit46+3/wDCVeKv7ev9M+3fYr+5062/0bTp4LaLZa2lvH+7iXd5e5tzMzH0Mty2vwJXePx7UoSXs0qd27tqV3zKKtaL63vbQ9TKMoxPhniXmmaNTpzXskqV3LmbUk2pKCtaD63vbTt41/waR/8ANwP/AHKn/uYr7K/4OBv+URXxb/7gP/p/06vjX/grd/xoq/4V/wD8Orf+LW/8LS/tX/hO/wDmOf2n/Zv2P7F/yF/tXk+X/aF3/qtm/wA35921NvjX/BPz/goH+13/AMFTP2u/CX7CH7d/xb/4Tr4U+Ovt/wDwlXhX+wbDTPt32KwudRtv9J06CC5i2XVpbyfu5V3eXtbcrMpK2W181zFcS0mlQTVTld+e1KykrJON3yO3vW2u10MRlGJzvNVxhQaWGi41eWV1U5aNlJWScbv2b5ffs7q7WtvzQr+yivjX/iH5/wCCRX/RpP8A5fuv/wDyfX41/wDEQN/wV1/6O2/8sLQP/kCtcz/42Byf2d7nsb83tNL89rW5ef8Akd726b9N85/42lyf2V7n1e/N7X3b+0ty8vJz3tyO97dLX1sf8HA3/KXX4t/9wH/0wadX2V/waR/83A/9yp/7mK9l/wCCfn/BPz9kT/gqZ+yJ4S/bv/bv+En/AAnXxW8dfb/+Eq8Vf29f6Z9u+xX9zp1t/o2nTwW0Wy1tLeP93Eu7y9zbmZmPjX/BW7/jRV/wr/8A4dW/8Wt/4Wl/av8Awnf/ADHP7T/s37H9i/5C/wBq8ny/7Qu/9Vs3+b8+7am3WtmVDNcuXDVJNV0lT5nbkvSs5O6blZ8jt7t9rpdN8Rm+GzvKlwfQTWJio0uaVlT5qNnJ3TcrP2b5fcu7q6Wtvsr/AIOBv+URXxb/AO4D/wCn/Tq/mhr9L/8Agn5/wUD/AGu/+Cpn7XfhL9hD9u/4t/8ACdfCnx19v/4Srwr/AGDYaZ9u+xWFzqNt/pOnQQXMWy6tLeT93Ku7y9rblZlP6X/8Q/P/AASK/wCjSf8Ay/df/wDk+jLcyocCUHgMenKcn7ROnZqzSjZ8zi73i+lrW1DKM3w3hnhnleaJzqTftU6VnHlaUUm5ODveD6WtbXt9lV/ND/wcDf8AKXX4t/8AcB/9MGnUf8RA3/BXX/o7b/ywtA/+QK/S/wD4J+f8E/P2RP8AgqZ+yJ4S/bv/AG7/AISf8J18VvHX2/8A4SrxV/b1/pn277Ff3OnW3+jadPBbRbLW0t4/3cS7vL3NuZmY8uW5bX4ErvH49qUJL2aVO7d21K75lFWtF9b3tocOUZRifDPEvNM0anTmvZJUruXM2pJtSUFa0H1ve2nb8BqK/pe/4h+f+CRX/RpP/l+6/wD/ACfRXtf8RGyT/n3U+6P/AMmfRf8AEWuHP+fVX/wGH/yw/mhr+l7/AIN+f+URXwk/7j3/AKf9Rooo8Rv+RJT/AOvi/wDSZh4tf8k5S/6+x/8ASKh8a/8AB25/zb9/3Nf/ALh6+Nf+Dfn/AJS6/CT/ALj3/pg1GiijJv8Ak3sv+vdb85hw/wD8mqn/ANesR+dQ/per+NeiivK8M/8AmL/7h/8At54ng7/zHf8AcL/3If0vf8G/P/KIr4Sf9x7/ANP+o18a/wDB25/zb9/3Nf8A7h6KK8rJv+ThS/6+VvymeJw//wAnVn/19xH5VD41/wCDfn/lLr8JP+49/wCmDUa/peooo8Rv+R3T/wCva/8ASph4tf8AJR0v+vUf/S6h/GvX9L3/AAb8/wDKIr4Sf9x7/wBP+o0UV9V4jf8AIkp/9fF/6TM+28Wv+Scpf9fY/wDpFQ+yqKKK/Fj+eD//2Q==",
         "infos": {
          "height": 100,
          "width": 100
         },
         "type": "image"
        }
       },
       "_layers_options": {
        "test": {
         "auto_scale_domain": true,
         "domain": {
          "bottomRight": {
           "x": 100,
           "y": 100
          },
          "topLeft": {
           "x": 0,
           "y": 0
          }
         },
         "foreground": false,
         "label": "",
         "opacity": 1,
         "visible": true,
         "z_index": 1
        }
       },
       "_left_ruler": false,
       "_target_transform": [
        0,
        0,
        1e-8
       ],
       "_transform": [
        0.5,
        0.49999999999999994,
        0
       ],
       "layout": "IPY_MODEL_8cbbce3973d049da89ae20ed54b95e3a",
       "linkedTransformGroup": "617c870523fd4f4d9043dc221b27301c"
      }
     },
     "a6b105dc1a6843c0b5f8e73bcedaf33e": {
      "model_module": "@jupyter-widgets/base",
      "model_module_version": "2.0.0",
      "model_name": "LayoutModel",
      "state": {
       "grid_gap": "1px",
       "grid_template_columns": "repeat(2, 1fr)",
       "grid_template_rows": "repeat(1, 650px)",
       "width": "100%"
      }
     },
     "ab5e4f4d896b49ea8a2a3ea13a06b64b": {
      "model_module": "jppype",
      "model_module_version": "0.2.0-a5",
      "model_name": "JView2DModel",
      "state": {
       "_domain": [
        0,
        0,
        100,
        100
       ],
       "_instance_id": 21,
       "_layers_data": {
        "Graph 01": {
         "data": {
          "adj": [
           [
            0,
            1
           ]
          ],
          "nodes_yx": [
           [
            10,
            15
           ],
           [
            80,
            80
           ]
          ]
         },
         "infos": {
          "nbNodes": 2,
          "nodesDomain": [
           100,
           100,
           0,
           0
          ]
         },
         "type": "graph"
        },
        "test": {
         "data": "data:image/jpg;base64,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",
         "infos": {
          "height": 100,
          "width": 100
         },
         "type": "image"
        }
       },
       "_layers_options": {
        "Graph 01": {
         "auto_scale_domain": true,
         "domain": {
          "bottomRight": {
           "x": 100,
           "y": 100
          },
          "topLeft": {
           "x": 0,
           "y": 0
          }
         },
         "edge_labels_visible": false,
         "edge_map_visible": true,
         "edges_cmap": {
          "0": [
           "#8caaee",
           "#99d1db",
           "#a6d189",
           "#ef9f76",
           "#e78284",
           "#f4b8e4",
           "#f2d5cf",
           "#babbf1",
           "#85c1dc",
           "#81c8be",
           "#e5c890",
           "#ea999c",
           "#ca9ee6",
           "#eebebe"
          ]
         },
         "edges_opacity": 0.7,
         "foreground": true,
         "label": "",
         "node_labels_visible": false,
         "nodes_cmap": {
          "0": [
           "#8caaee",
           "#99d1db",
           "#a6d189",
           "#ef9f76",
           "#e78284",
           "#f4b8e4",
           "#f2d5cf",
           "#babbf1",
           "#85c1dc",
           "#81c8be",
           "#e5c890",
           "#ea999c",
           "#ca9ee6",
           "#eebebe"
          ]
         },
         "opacity": 1,
         "visible": true,
         "z_index": 2
        },
        "test": {
         "auto_scale_domain": true,
         "domain": {
          "bottomRight": {
           "x": 100,
           "y": 100
          },
          "topLeft": {
           "x": 0,
           "y": 0
          }
         },
         "foreground": false,
         "label": "",
         "opacity": 1,
         "visible": true,
         "z_index": 1
        }
       },
       "_left_ruler": false,
       "_target_transform": [
        0,
        0,
        1e-8
       ],
       "_transform": [
        0.5,
        0.5,
        0
       ],
       "layout": "IPY_MODEL_81c00a89aeca4218a1555fdf3e16b805",
       "linkedTransformGroup": "70ef718d0e8f4185938f5df97fed7c61"
      }
     },
     "ad4827ccd1c746b883dde5856a8920c9": {
      "model_module": "jppype",
      "model_module_version": "0.2.0-a5",
      "model_name": "JView2DModel",
      "state": {
       "_domain": [
        0,
        0,
        100,
        100
       ],
       "_instance_id": 7,
       "_layers_data": {
        "test": {
         "data": "data:image/jpg;base64,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",
         "infos": {
          "height": 100,
          "width": 100
         },
         "type": "image"
        }
       },
       "_layers_options": {
        "test": {
         "auto_scale_domain": true,
         "domain": {
          "bottomRight": {
           "x": 100,
           "y": 100
          },
          "topLeft": {
           "x": 0,
           "y": 0
          }
         },
         "foreground": false,
         "label": "",
         "opacity": 1,
         "visible": true,
         "z_index": 1
        }
       },
       "_left_ruler": false,
       "_target_transform": [
        0,
        0,
        1e-8
       ],
       "_transform": [
        0.5,
        0.5000000006313555,
        0
       ],
       "layout": "IPY_MODEL_dbcafd867c4d4fcf8bf4fb3607b89a88",
       "linkedTransformGroup": "26011cebeec047989db3a59042ac0bcb"
      }
     },
     "b096fe38681742888b778667a2673091": {
      "model_module": "@jupyter-widgets/base",
      "model_module_version": "2.0.0",
      "model_name": "LayoutModel",
      "state": {}
     },
     "b5ac3662cac24db7b0a5d32aae1c0d52": {
      "model_module": "jppype",
      "model_module_version": "0.2.0-a5",
      "model_name": "JView2DModel",
      "state": {
       "_domain": [
        -1,
        40,
        100,
        100
       ],
       "_instance_id": 4,
       "_layers_data": {
        "test": {
         "data": "data:image/jpg;base64,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",
         "infos": {
          "height": 100,
          "width": 100
         },
         "type": "image"
        }
       },
       "_layers_options": {
        "test": {
         "auto_scale_domain": true,
         "domain": {
          "bottomRight": {
           "x": 140,
           "y": 99
          },
          "topLeft": {
           "x": 40,
           "y": -1
          }
         },
         "foreground": false,
         "label": "",
         "opacity": 1,
         "visible": true,
         "z_index": 1
        }
       },
       "_target_transform": [
        0,
        0,
        1e-8
       ],
       "_transform": [
        0,
        0,
        1e-8
       ],
       "layout": "IPY_MODEL_7da875be55094b11a8127362d4d22fd2",
       "linkedTransformGroup": "534ccb2b5902489c83e6a52f40675102"
      }
     },
     "b5cb7f3078384785af990be93fe11561": {
      "model_module": "@jupyter-widgets/controls",
      "model_module_version": "2.0.0",
      "model_name": "GridBoxModel",
      "state": {
       "children": [
        "IPY_MODEL_71b4cf68a12e4bf4ae02fed879d4f9af",
        "IPY_MODEL_ad4827ccd1c746b883dde5856a8920c9"
       ],
       "layout": "IPY_MODEL_7363df2df593466f8b5138819bd3d459"
      }
     },
     "ba1d8af7f8ce48e5b5e725f24742c312": {
      "model_module": "@jupyter-widgets/base",
      "model_module_version": "2.0.0",
      "model_name": "LayoutModel",
      "state": {
       "grid_gap": "1px",
       "grid_template_columns": "repeat(2, 1fr)",
       "grid_template_rows": "repeat(1, 650px)",
       "width": "100%"
      }
     },
     "bb482e2708b2475c9b302308f5112771": {
      "model_module": "@jupyter-widgets/base",
      "model_module_version": "2.0.0",
      "model_name": "LayoutModel",
      "state": {}
     },
     "bd3eee88657d4ab398ac86a28a3f3cb3": {
      "model_module": "jppype",
      "model_module_version": "0.2.0-a5",
      "model_name": "JView2DModel",
      "state": {
       "_domain": [
        0,
        0,
        100,
        100
       ],
       "_instance_id": 9,
       "_layers_data": {
        "test": {
         "data": "data:image/jpg;base64,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",
         "infos": {
          "height": 100,
          "width": 100
         },
         "type": "image"
        }
       },
       "_layers_options": {
        "test": {
         "auto_scale_domain": true,
         "domain": {
          "bottomRight": {
           "x": 100,
           "y": 100
          },
          "topLeft": {
           "x": 0,
           "y": 0
          }
         },
         "foreground": false,
         "label": "",
         "opacity": 1,
         "visible": true,
         "z_index": 1
        }
       },
       "_left_ruler": false,
       "_target_transform": [
        0,
        0,
        1e-8
       ],
       "_transform": [
        0,
        0,
        1e-8
       ],
       "layout": "IPY_MODEL_6e6a973ba8d04a0591ccf6c3fef535ff",
       "linkedTransformGroup": "85e4c5bbc367415c9a926a97297c1607"
      }
     },
     "beb7821a276d4bb284b8283fdf953a42": {
      "model_module": "@jupyter-widgets/base",
      "model_module_version": "2.0.0",
      "model_name": "LayoutModel",
      "state": {}
     },
     "ca438fbdf70c4ebfbd8395375a3601b2": {
      "model_module": "@jupyter-widgets/base",
      "model_module_version": "2.0.0",
      "model_name": "LayoutModel",
      "state": {}
     },
     "d525fe0b66154e239a331fc08627525f": {
      "model_module": "@jupyter-widgets/controls",
      "model_module_version": "2.0.0",
      "model_name": "GridBoxModel",
      "state": {
       "children": [
        "IPY_MODEL_74d47f30136e4a1096393d82b79920a3",
        "IPY_MODEL_21daa5d1496e4984a007f5019870ecdb"
       ],
       "layout": "IPY_MODEL_fbc98894726e44ebb8b790289af8e109"
      }
     },
     "d9c7e65a50a34cd9ae21437f56512280": {
      "model_module": "@jupyter-widgets/base",
      "model_module_version": "2.0.0",
      "model_name": "LayoutModel",
      "state": {}
     },
     "db58ba2693b1488fab0c13748e02256e": {
      "model_module": "jppype",
      "model_module_version": "0.2.0-a5",
      "model_name": "JView2DModel",
      "state": {
       "_domain": [
        0,
        0,
        100,
        100
       ],
       "_instance_id": 13,
       "_layers_data": {
        "test": {
         "data": "data:image/jpg;base64,/9j/4AAQSkZJRgABAQAAAQABAAD/2wBDAAIBAQEBAQIBAQECAgICAgQDAgICAgUEBAMEBgUGBgYFBgYGBwkIBgcJBwYGCAsICQoKCgoKBggLDAsKDAkKCgr/2wBDAQICAgICAgUDAwUKBwYHCgoKCgoKCgoKCgoKCgoKCgoKCgoKCgoKCgoKCgoKCgoKCgoKCgoKCgoKCgoKCgoKCgr/wAARCABkAGQDASIAAhEBAxEB/8QAHwAAAQUBAQEBAQEAAAAAAAAAAAECAwQFBgcICQoL/8QAtRAAAgEDAwIEAwUFBAQAAAF9AQIDAAQRBRIhMUEGE1FhByJxFDKBkaEII0KxwRVS0fAkM2JyggkKFhcYGRolJicoKSo0NTY3ODk6Q0RFRkdISUpTVFVWV1hZWmNkZWZnaGlqc3R1dnd4eXqDhIWGh4iJipKTlJWWl5iZmqKjpKWmp6ipqrKztLW2t7i5usLDxMXGx8jJytLT1NXW19jZ2uHi4+Tl5ufo6erx8vP09fb3+Pn6/8QAHwEAAwEBAQEBAQEBAQAAAAAAAAECAwQFBgcICQoL/8QAtREAAgECBAQDBAcFBAQAAQJ3AAECAxEEBSExBhJBUQdhcRMiMoEIFEKRobHBCSMzUvAVYnLRChYkNOEl8RcYGRomJygpKjU2Nzg5OkNERUZHSElKU1RVVldYWVpjZGVmZ2hpanN0dXZ3eHl6goOEhYaHiImKkpOUlZaXmJmaoqOkpaanqKmqsrO0tba3uLm6wsPExcbHyMnK0tPU1dbX2Nna4uPk5ebn6Onq8vP09fb3+Pn6/9oADAMBAAIRAxEAPwD9/K/mh/4OBv8AlLr8W/8AuA/+mDTqP+Igb/grr/0dt/5YWgf/ACBX6X/8E/P+Cfn7In/BUz9kTwl+3f8At3/CT/hOvit46+3/APCVeKv7ev8ATPt32K/udOtv9G06eC2i2Wtpbx/u4l3eXubczMx/T8ty2vwJXePx7UoSXs0qd27tqV3zKKtaL63vbQ/ZcoyjE+GeJeaZo1OnNeySpXcuZtSTakoK1oPre9tO3jX/AAaR/wDNwP8A3Kn/ALmK+yv+Dgb/AJRFfFv/ALgP/p/06vjX/grd/wAaKv8AhX//AA6t/wCLW/8AC0v7V/4Tv/mOf2n/AGb9j+xf8hf7V5Pl/wBoXf8Aqtm/zfn3bU2+Nf8ABPz/AIKB/td/8FTP2u/CX7CH7d/xb/4Tr4U+Ovt//CVeFf7BsNM+3fYrC51G2/0nToILmLZdWlvJ+7lXd5e1tysykrZbXzXMVxLSaVBNVOV357UrKSsk43fI7e9ba7XQxGUYnO81XGFBpYaLjV5ZXVTlo2UlZJxu/Zvl9+zurta2/NCv7KK+Nf8AiH5/4JFf9Gk/+X7r/wD8n1+Nf/EQN/wV1/6O2/8ALC0D/wCQK1zP/jYHJ/Z3uexvze00vz2tbl5/5He9um/TfOf+Npcn9le59Xvze192/tLcvLyc97cjve3S19bH/BwN/wApdfi3/wBwH/0wadX2V/waR/8ANwP/AHKn/uYr2X/gn5/wT8/ZE/4KmfsieEv27/27/hJ/wnXxW8dfb/8AhKvFX9vX+mfbvsV/c6dbf6Np08FtFstbS3j/AHcS7vL3NuZmY+Nf8Fbv+NFX/Cv/APh1b/xa3/haX9q/8J3/AMxz+0/7N+x/Yv8AkL/avJ8v+0Lv/VbN/m/Pu2pt1rZlQzXLlw1STVdJU+Z25L0rOTum5WfI7e7fa6XTfEZvhs7ypcH0E1iYqNLmlZU+ajZyd03Kz9m+X3Lu6ulrb7K/4OBv+URXxb/7gP8A6f8ATq/mhr9L/wDgn5/wUD/a7/4Kmftd+Ev2EP27/i3/AMJ18KfHX2//AISrwr/YNhpn277FYXOo23+k6dBBcxbLq0t5P3cq7vL2tuVmU/pf/wAQ/P8AwSK/6NJ/8v3X/wD5Poy3MqHAlB4DHpynJ+0Tp2as0o2fM4u94vpa1tQyjN8N4Z4Z5Xmic6k37VOlZx5WlFJuTg73g+lrW17fZVfzQ/8ABwN/yl1+Lf8A3Af/AEwadR/xEDf8Fdf+jtv/ACwtA/8AkCv0v/4J+f8ABPz9kT/gqZ+yJ4S/bv8A27/hJ/wnXxW8dfb/APhKvFX9vX+mfbvsV/c6dbf6Np08FtFstbS3j/dxLu8vc25mZjy5bltfgSu8fj2pQkvZpU7t3bUrvmUVa0X1ve2hw5RlGJ8M8S80zRqdOa9klSu5czakm1JQVrQfW97advwGor+l7/iH5/4JFf8ARpP/AJfuv/8AyfRXtf8AERsk/wCfdT7o/wDyZ9F/xFrhz/n1V/8AAYf/ACw+Nf8AiEj/AOsgP/mKf/vrR/w9u/4cVf8AGq3/AIZ+/wCFpf8ACrf+Z7/4Sv8AsP8AtP8AtL/ib/8AHl9luvJ8v+0PJ/177/K3/Lu2L9lf8RA3/BIr/o7b/wAsLX//AJAr80P+Cgf/AAT8/a7/AOCpn7Xfi39u/wDYQ+En/CdfCnx19g/4RXxV/b1hpn277FYW2nXP+jajPBcxbLq0uI/3kS7vL3LuVlY+LltbMc1rulxKmqCV4+0Xslz3SVpJQu+Vy0vtd200+dyjEZrneJdDjBOOGS5o+1j7GPtE0laSVO75XP3bu6u7aXXsv/K0x/1Qr/hRf/cz/wBt/wBtf+AH2byf7J/6a+Z9o/g2fOf8Okf+HFX/ABtS/wCGgf8AhaX/AAq3/mRP+EU/sP8AtP8AtL/iUf8AH79quvJ8v+0PO/1D7/K2fLu3qf8ABJH/AI0Vf8LA/wCHqX/Frf8AhaX9lf8ACCf8xz+0/wCzftn23/kEfavJ8v8AtC0/1uzf5vybtr7fZf8AgoH/AMFA/wBkT/gqZ+yJ4t/YQ/YQ+Lf/AAnXxW8dfYP+EV8K/wBg3+mfbvsV/bajc/6TqMEFtFstbS4k/eSru8vau5mVSVq2Y0MxWCwSf9nXSbS5ockre1/e2btdzu+f3ddVbQxGIzXDZqsuy5N5S3GLcY81P2cre2/fWbSTc+aXP7muqtp41/xFuf8AWP7/AMyt/wDeqj/iEj/6yA/+Yp/++tfGv/EPz/wV1/6NJ/8AL90D/wCT6/ZT/iIG/wCCRX/R23/lha//APIFa5n/AMJPJ/qv73Nf2ns/3u1uS9+fl3lba+u9tN85/wCELk/1M97nv7X2X7/a3s+a/tOXedtubXe2nxr/AMPbv+HFX/Gq3/hn7/haX/Crf+Z7/wCEr/sP+0/7S/4m/wDx5fZbryfL/tDyf9e+/wArf8u7Yp/ytMf9UK/4UX/3M/8Abf8AbX/gB9m8n+yf+mvmfaP4Nnz+Nf8ABQP/AIJ+ftd/8FTP2u/Fv7d/7CHwk/4Tr4U+OvsH/CK+Kv7esNM+3fYrC2065/0bUZ4LmLZdWlxH+8iXd5e5dysrH2X/AIJI/wDGir/hYH/D1L/i1v8AwtL+yv8AhBP+Y5/af9m/bPtv/II+1eT5f9oWn+t2b/N+TdtfbrWo5dQy5Y3BNf2jZNpPmnzyt7X91dq9nO65Pd10VtN8Rh8qw2VLMcuaebNRk1GXNU9pK3tv3N2k0nPmjye5roraH/DpH/hxV/xtS/4aB/4Wl/wq3/mRP+EU/sP+0/7S/wCJR/x+/arryfL/ALQ87/UPv8rZ8u7ep/xFuf8AWP7/AMyt/wDeqvZf+Cgf/BQP9kT/AIKmfsieLf2EP2EPi3/wnXxW8dfYP+EV8K/2Df6Z9u+xX9tqNz/pOowQW0Wy1tLiT95Ku7y9q7mZVP5of8Q/P/BXX/o0n/y/dA/+T6Mto5dmtB1eJWlXTtH2j9k+SyatFOF1zOWtt7q+mhlGHyrO8M6/GDUcSnyx9rL2MvZpJq0U6d1zOfvWd3dX0svsr/iEj/6yA/8AmKf/AL60f8Pbv+HFX/Gq3/hn7/haX/Crf+Z7/wCEr/sP+0/7S/4m/wDx5fZbryfL/tDyf9e+/wArf8u7Yv2V/wARA3/BIr/o7b/ywtf/APkCvzQ/4KB/8E/P2u/+Cpn7Xfi39u/9hD4Sf8J18KfHX2D/AIRXxV/b1hpn277FYW2nXP8Ao2ozwXMWy6tLiP8AeRLu8vcu5WVjy5bWzHNa7pcSpqglePtF7Jc90laSULvlctL7XdtNOHKMRmud4l0OME44ZLmj7WPsY+0TSVpJU7vlc/du7q7tpdey/wDEW5/1j+/8yt/96qK+Nf8AiH5/4K6/9Gk/+X7oH/yfRXtf2N4e/wA1P/wc/wD5M+i/1f8ACr+el/4Pf/yw+Na/pe/4N+f+URXwk/7j3/p/1Gvsqv5of+Dgb/lLr8W/+4D/AOmDTq8r+0/+Igf8J3J7Hk/ec1+e9vdta0P573v02108T+2P+Ipf8JXJ9X5P3vNf2l+X3OXltC1+e979LW1uvsr/AIO3P+bfv+5r/wDcPXxr/wAG/P8Ayl1+En/ce/8ATBqNfZX/AAaR/wDNwP8A3Kn/ALmK+yv+Dgb/AJRFfFv/ALgP/p/06j+0/wCyf+MX5Oa/7v2l7fxdb8ln8PPtza23V9D+2P7C/wCMM5Ofm/de1vb+Przezs/h9ptz+9bdX0+yq/jXor+yij/k3X/T/wBv/wBucvJ/4He/P5Wt1vof8mm/6ifrP/cPl9n/AODL39p5Wt1vp8a/8G/P/KIr4Sf9x7/0/wCo18a/8Hbn/Nv3/c1/+4evjX/g4G/5S6/Fv/uA/wDpg06vsr/g0j/5uB/7lT/3MUf2Z/ZP/GUc/Nf957O1v4ulue7+Hn35dbbK+h/Y/wDYX/GZ8/PzfvfZWt/H05faXfw+035Petsr6fGv/Bvz/wApdfhJ/wBx7/0wajX9L1fGv/BwN/yiK+Lf/cB/9P8Ap1fzQ0f2Z/xED/hR5/Y8n7vltz3t7173h/Pa1um+uh/Y/wDxFL/hV5/q/J+65be0vy+/zc14Wvz2tbpe+tkV/S9/wb8/8oivhJ/3Hv8A0/6jX2VX80P/AAcDf8pdfi3/ANwH/wBMGnUf2n/xED/hO5PY8n7zmvz3t7trWh/Pe9+m2uh/bH/EUv8AhK5Pq/J+95r+0vy+5y8toWvz3vfpa2t1/S9RX8a9FH/EM/8AqL/8p/8A24f8Qd/6jv8Ayl/90Psr/iIG/wCCuv8A0dt/5YWgf/IFfpf/AME/P+Cfn7In/BUz9kTwl+3f+3f8JP8AhOvit46+3/8ACVeKv7ev9M+3fYr+5062/wBG06eC2i2Wtpbx/u4l3eXubczMx8a/4hI/+sgP/mKf/vrR/wAPbv8AhxV/xqt/4Z+/4Wl/wq3/AJnv/hK/7D/tP+0v+Jv/AMeX2W68ny/7Q8n/AF77/K3/AC7ti65lWy7NaCpcNJKuneXs17J8lmneTULrmcdL72dtNN83xGVZ3hlQ4PSjiU+aXso+xl7NJp3k1TuuZw927u7O2l0f8Fbv+NFX/Cv/APh1b/xa3/haX9q/8J3/AMxz+0/7N+x/Yv8AkL/avJ8v+0Lv/VbN/m/Pu2pt8a/4J+f8FA/2u/8AgqZ+134S/YQ/bv8Ai3/wnXwp8dfb/wDhKvCv9g2GmfbvsVhc6jbf6Tp0EFzFsurS3k/dyru8va25WZT7L/ytMf8AVCv+FF/9zP8A23/bX/gB9m8n+yf+mvmfaP4Nnzn/AA6R/wCHFX/G1L/hoH/haX/Crf8AmRP+EU/sP+0/7S/4lH/H79quvJ8v+0PO/wBQ+/ytny7t6lGtl1DLngsal/aNmk2uafPK/sv3tmr2cLPn93TVW0MPiMqw2VPLsxSebNSinKPNU9pK/sf31mk0nDllz+5pqrafZX/EPz/wSK/6NJ/8v3X/AP5Pr8a/+Igb/grr/wBHbf8AlhaB/wDIFfZX/EW5/wBY/v8AzK3/AN6qP+ISP/rID/5in/761lln/CTz/wCtHvc1vZ+0/e7X57W5+XeN9r6b20wyf/hC5/8AXP3ue3sva/v9r+05be05d4X25tN7aey/8E/P+Cfn7In/AAVM/ZE8Jft3/t3/AAk/4Tr4reOvt/8AwlXir+3r/TPt32K/udOtv9G06eC2i2Wtpbx/u4l3eXubczMx8a/4K3f8aKv+Ff8A/Dq3/i1v/C0v7V/4Tv8A5jn9p/2b9j+xf8hf7V5Pl/2hd/6rZv8AN+fdtTaf8Pbv+HFX/Gq3/hn7/haX/Crf+Z7/AOEr/sP+0/7S/wCJv/x5fZbryfL/ALQ8n/Xvv8rf8u7Yp/ytMf8AVCv+FF/9zP8A23/bX/gB9m8n+yf+mvmfaP4Nnz5UaOY0MxeNxrf9nXbSb5ockr+y/dXbtdwsuT3dNFbTDD4fNcNmrzHMW3lLcpJSlzU/Zyv7H9zdtJNw5Y8nuaaK2njX/BPz/goH+13/AMFTP2u/CX7CH7d/xb/4Tr4U+Ovt/wDwlXhX+wbDTPt32KwudRtv9J06CC5i2XVpbyfu5V3eXtbcrMp/S/8A4h+f+CRX/RpP/l+6/wD/ACfXxr/w6R/4cVf8bUv+Ggf+Fpf8Kt/5kT/hFP7D/tP+0v8AiUf8fv2q68ny/wC0PO/1D7/K2fLu3qf8Rbn/AFj+/wDMrf8A3qozKjmOa11V4abVBK0vZv2S57tu8W4XfK4622sr6aGb4fNc7xKr8HtxwyXLL2UvYx9om27xbp3fK4e9Z3VlfSy+Nf8AiIG/4K6/9Hbf+WFoH/yBX6X/APBPz/gn5+yJ/wAFTP2RPCX7d/7d/wAJP+E6+K3jr7f/AMJV4q/t6/0z7d9iv7nTrb/RtOngtotlraW8f7uJd3l7m3MzMfGv+ISP/rID/wCYp/8AvrR/w9u/4cVf8arf+Gfv+Fpf8Kt/5nv/AISv+w/7T/tL/ib/APHl9luvJ8v+0PJ/177/ACt/y7ti9WZVsuzWgqXDSSrp3l7NeyfJZp3k1C65nHS+9nbTTuzfEZVneGVDg9KOJT5peyj7GXs0mneTVO65nD3bu7s7aXX2V/xD8/8ABIr/AKNJ/wDL91//AOT6K+Nf+Itz/rH9/wCZW/8AvVRXi/2N4hfzVP8Awcv/AJM+d/1f8Vf56v8A4PX/AMsPsr/iIG/4JFf9Hbf+WFr/AP8AIFfmh/wUD/4J+ftd/wDBUz9rvxb+3f8AsIfCT/hOvhT46+wf8Ir4q/t6w0z7d9isLbTrn/RtRnguYtl1aXEf7yJd3l7l3KysfzQr+l7/AIN+f+URXwk/7j3/AKf9Rr2syy2hwJQWPwDcpyfs2qlmrNOV1yqLveK62tfQ+izfKMN4Z4ZZplbc6k37JqrZx5WnJtKKg73gutrX07fGv/BJH/jRV/wsD/h6l/xa3/haX9lf8IJ/zHP7T/s37Z9t/wCQR9q8ny/7QtP9bs3+b8m7a+32X/goH/wUD/ZE/wCCpn7Ini39hD9hD4t/8J18VvHX2D/hFfCv9g3+mfbvsV/bajc/6TqMEFtFstbS4k/eSru8vau5mVT41/wduf8ANv3/AHNf/uHr41/4N+f+Uuvwk/7j3/pg1GijltDNcufEtVtV0nU5VbkvSuoqzTlZ8iv7197NdDD5Rhs7yp8YV21iYqVXljZU+ajdRVmnKz9mub37u7s1pY/4h+f+Cuv/AEaT/wCX7oH/AMn1+yn/ABEDf8Eiv+jtv/LC1/8A+QK+yq/jXrLLP+Ngc/8AaPuexty+z0vz3vfm5/5Fa1uu/TDJ/wDjaXP/AGr7n1e3L7L3b+0vzc3Pz3tyK1rdb30t+l//AAUD/wCCfn7Xf/BUz9rvxb+3f+wh8JP+E6+FPjr7B/wivir+3rDTPt32KwttOuf9G1GeC5i2XVpcR/vIl3eXuXcrKx9l/wCCSP8Axoq/4WB/w9S/4tb/AMLS/sr/AIQT/mOf2n/Zv2z7b/yCPtXk+X/aFp/rdm/zfk3bX2/ZX/Bvz/yiK+En/ce/9P8AqNfGv/B25/zb9/3Nf/uHrKjmVfNcxfDVVJUE3T5lfntSu4u7bjd8iv7tt7JdMMPm+JzvNXwfXSWGi5UuaN1U5aN3F3bcbv2a5vcs7uyWlvZf+Cgf/BQP9kT/AIKmfsieLf2EP2EPi3/wnXxW8dfYP+EV8K/2Df6Z9u+xX9tqNz/pOowQW0Wy1tLiT95Ku7y9q7mZVP5of8Q/P/BXX/o0n/y/dA/+T6P+Dfn/AJS6/CT/ALj3/pg1Gv6XqMyzKvwJXWAwCUoSXtG6l27tuNlyuKtaK6XvfUM3zfE+GeJWV5WlOnNe1bq3cuZtxaTi4K1oLpe99e3xr/xEDf8ABIr/AKO2/wDLC1//AOQK/ND/AIKB/wDBPz9rv/gqZ+134t/bv/YQ+En/AAnXwp8dfYP+EV8Vf29YaZ9u+xWFtp1z/o2ozwXMWy6tLiP95Eu7y9y7lZWP5oV/S9/wb8/8oivhJ/3Hv/T/AKjXVmWW0OBKCx+AblOT9m1Us1ZpyuuVRd7xXW1r6Hdm+UYbwzwyzTK251Jv2TVWzjytOTaUVB3vBdbWvp2/Gv8A4h+f+Cuv/RpP/l+6B/8AJ9Ff0vUV4v8AxEbO/wDn3T+6X/yZ87/xFriP/n1S/wDAZ/8AywK/mh/4OBv+Uuvxb/7gP/pg06j/AIiBv+Cuv/R23/lhaB/8gV+l/wDwT8/4J+fsif8ABUz9kTwl+3f+3f8ACT/hOvit46+3/wDCVeKv7ev9M+3fYr+5062/0bTp4LaLZa2lvH+7iXd5e5tzMzH0Mty2vwJXePx7UoSXs0qd27tqV3zKKtaL63vbQ9TKMoxPhniXmmaNTpzXskqV3LmbUk2pKCtaD63vbTt41/waR/8ANwP/AHKn/uYr7K/4OBv+URXxb/7gP/p/06vjX/grd/xoq/4V/wD8Orf+LW/8LS/tX/hO/wDmOf2n/Zv2P7F/yF/tXk+X/aF3/qtm/wA35921NvjX/BPz/goH+13/AMFTP2u/CX7CH7d/xb/4Tr4U+Ovt/wDwlXhX+wbDTPt32KwudRtv9J06CC5i2XVpbyfu5V3eXtbcrMpK2W181zFcS0mlQTVTld+e1KykrJON3yO3vW2u10MRlGJzvNVxhQaWGi41eWV1U5aNlJWScbv2b5ffs7q7WtvzQr+yivjX/iH5/wCCRX/RpP8A5fuv/wDyfX41/wDEQN/wV1/6O2/8sLQP/kCtcz/42Byf2d7nsb83tNL89rW5ef8Akd726b9N85/42lyf2V7n1e/N7X3b+0ty8vJz3tyO97dLX1sf8HA3/KXX4t/9wH/0wadX2V/waR/83A/9yp/7mK9l/wCCfn/BPz9kT/gqZ+yJ4S/bv/bv+En/AAnXxW8dfb/+Eq8Vf29f6Z9u+xX9zp1t/o2nTwW0Wy1tLeP93Eu7y9zbmZmPjX/BW7/jRV/wr/8A4dW/8Wt/4Wl/av8Awnf/ADHP7T/s37H9i/5C/wBq8ny/7Qu/9Vs3+b8+7am3WtmVDNcuXDVJNV0lT5nbkvSs5O6blZ8jt7t9rpdN8Rm+GzvKlwfQTWJio0uaVlT5qNnJ3TcrP2b5fcu7q6Wtvsr/AIOBv+URXxb/AO4D/wCn/Tq/mhr9L/8Agn5/wUD/AGu/+Cpn7XfhL9hD9u/4t/8ACdfCnx19v/4Srwr/AGDYaZ9u+xWFzqNt/pOnQQXMWy6tLeT93Ku7y9rblZlP6X/8Q/P/AASK/wCjSf8Ay/df/wDk+jLcyocCUHgMenKcn7ROnZqzSjZ8zi73i+lrW1DKM3w3hnhnleaJzqTftU6VnHlaUUm5ODveD6WtbXt9lV/ND/wcDf8AKXX4t/8AcB/9MGnUf8RA3/BXX/o7b/ywtA/+QK/S/wD4J+f8E/P2RP8AgqZ+yJ4S/bv/AG7/AISf8J18VvHX2/8A4SrxV/b1/pn277Ff3OnW3+jadPBbRbLW0t4/3cS7vL3NuZmY8uW5bX4ErvH49qUJL2aVO7d21K75lFWtF9b3tocOUZRifDPEvNM0anTmvZJUruXM2pJtSUFa0H1ve2nb8BqK/pe/4h+f+CRX/RpP/l+6/wD/ACfRXtf8RGyT/n3U+6P/AMmfRf8AEWuHP+fVX/wGH/yw/mhr+l7/AIN+f+URXwk/7j3/AKf9Rooo8Rv+RJT/AOvi/wDSZh4tf8k5S/6+x/8ASKh8a/8AB25/zb9/3Nf/ALh6+Nf+Dfn/AJS6/CT/ALj3/pg1GiijJv8Ak3sv+vdb85hw/wD8mqn/ANesR+dQ/per+NeiivK8M/8AmL/7h/8At54ng7/zHf8AcL/3If0vf8G/P/KIr4Sf9x7/ANP+o18a/wDB25/zb9/3Nf8A7h6KK8rJv+ThS/6+VvymeJw//wAnVn/19xH5VD41/wCDfn/lLr8JP+49/wCmDUa/peooo8Rv+R3T/wCva/8ASph4tf8AJR0v+vUf/S6h/GvX9L3/AAb8/wDKIr4Sf9x7/wBP+o0UV9V4jf8AIkp/9fF/6TM+28Wv+Scpf9fY/wDpFQ+yqKKK/Fj+eD//2Q==",
         "infos": {
          "height": 100,
          "width": 100
         },
         "type": "image"
        }
       },
       "_layers_options": {
        "test": {
         "auto_scale_domain": true,
         "domain": {
          "bottomRight": {
           "x": 100,
           "y": 100
          },
          "topLeft": {
           "x": 0,
           "y": 0
          }
         },
         "foreground": false,
         "label": "",
         "opacity": 1,
         "visible": true,
         "z_index": 1
        }
       },
       "_left_ruler": false,
       "_target_transform": [
        0,
        0,
        1e-8
       ],
       "_transform": [
        0,
        0,
        1e-8
       ],
       "layout": "IPY_MODEL_78c369465a6846b8a80b3fbb332d06df",
       "linkedTransformGroup": "e4acb96c843e4197a39ea6f1dc98cce5"
      }
     },
     "dbcafd867c4d4fcf8bf4fb3607b89a88": {
      "model_module": "@jupyter-widgets/base",
      "model_module_version": "2.0.0",
      "model_name": "LayoutModel",
      "state": {}
     },
     "de76bef58afb4a64b22fdea7863c9a7f": {
      "model_module": "@jupyter-widgets/base",
      "model_module_version": "2.0.0",
      "model_name": "LayoutModel",
      "state": {}
     },
     "e2ee59533c4a4f4993094c4fce47efe7": {
      "model_module": "@jupyter-widgets/base",
      "model_module_version": "2.0.0",
      "model_name": "LayoutModel",
      "state": {}
     },
     "f1b662f2435c448f94d601b5577095b7": {
      "model_module": "@jupyter-widgets/controls",
      "model_module_version": "2.0.0",
      "model_name": "GridBoxModel",
      "state": {
       "children": [
        "IPY_MODEL_4f9da599625a4c7ab800a6acfedf2338",
        "IPY_MODEL_ab5e4f4d896b49ea8a2a3ea13a06b64b"
       ],
       "layout": "IPY_MODEL_ba1d8af7f8ce48e5b5e725f24742c312"
      }
     },
     "f22c4593027c4741b78895fb2d6a5d03": {
      "model_module": "@jupyter-widgets/base",
      "model_module_version": "2.0.0",
      "model_name": "LayoutModel",
      "state": {
       "grid_gap": "1px",
       "grid_template_columns": "repeat(2, 1fr)",
       "grid_template_rows": "repeat(1, 650px)",
       "width": "100%"
      }
     },
     "fbc98894726e44ebb8b790289af8e109": {
      "model_module": "@jupyter-widgets/base",
      "model_module_version": "2.0.0",
      "model_name": "LayoutModel",
      "state": {
       "grid_gap": "1px",
       "grid_template_columns": "repeat(2, 1fr)",
       "grid_template_rows": "repeat(1, 650px)",
       "width": "100%"
      }
     }
    },
    "version_major": 2,
    "version_minor": 0
   }
  }
 },
 "nbformat": 4,
 "nbformat_minor": 4
}
